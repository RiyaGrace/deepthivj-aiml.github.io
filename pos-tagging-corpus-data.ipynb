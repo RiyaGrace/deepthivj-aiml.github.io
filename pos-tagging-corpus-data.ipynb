{
 "cells": [
  {
   "cell_type": "markdown",
   "metadata": {},
   "source": [
    "1)extract text from corpus\n",
    "---------------------------\n",
    "2)tokenize them\n",
    "---------------\n",
    "3)pos_tagging\n",
    "--------------\n",
    "4)identifying stems\n",
    "-------------------"
   ]
  },
  {
   "cell_type": "code",
   "execution_count": 37,
   "metadata": {},
   "outputs": [],
   "source": [
    "#IMPORTS\n",
    "import nltk \n",
    "from nltk.stem import PorterStemmer \n",
    "from nltk.corpus import brown"
   ]
  },
  {
   "cell_type": "code",
   "execution_count": 36,
   "metadata": {},
   "outputs": [
    {
     "data": {
      "text/plain": [
       "['ca01',\n",
       " 'ca02',\n",
       " 'ca03',\n",
       " 'ca04',\n",
       " 'ca05',\n",
       " 'ca06',\n",
       " 'ca07',\n",
       " 'ca08',\n",
       " 'ca09',\n",
       " 'ca10',\n",
       " 'ca11',\n",
       " 'ca12',\n",
       " 'ca13',\n",
       " 'ca14',\n",
       " 'ca15',\n",
       " 'ca16',\n",
       " 'ca17',\n",
       " 'ca18',\n",
       " 'ca19',\n",
       " 'ca20',\n",
       " 'ca21',\n",
       " 'ca22',\n",
       " 'ca23',\n",
       " 'ca24',\n",
       " 'ca25',\n",
       " 'ca26',\n",
       " 'ca27',\n",
       " 'ca28',\n",
       " 'ca29',\n",
       " 'ca30',\n",
       " 'ca31',\n",
       " 'ca32',\n",
       " 'ca33',\n",
       " 'ca34',\n",
       " 'ca35',\n",
       " 'ca36',\n",
       " 'ca37',\n",
       " 'ca38',\n",
       " 'ca39',\n",
       " 'ca40',\n",
       " 'ca41',\n",
       " 'ca42',\n",
       " 'ca43',\n",
       " 'ca44',\n",
       " 'cb01',\n",
       " 'cb02',\n",
       " 'cb03',\n",
       " 'cb04',\n",
       " 'cb05',\n",
       " 'cb06']"
      ]
     },
     "execution_count": 36,
     "metadata": {},
     "output_type": "execute_result"
    }
   ],
   "source": [
    "#FIELDS IN BROWN CORPUS\n",
    "brown.fileids()[:50]\n"
   ]
  },
  {
   "cell_type": "code",
   "execution_count": 2,
   "metadata": {},
   "outputs": [
    {
     "data": {
      "text/plain": [
       "500"
      ]
     },
     "execution_count": 2,
     "metadata": {},
     "output_type": "execute_result"
    }
   ],
   "source": [
    "#length of corpus \n",
    "len(brown.fileids())\n"
   ]
  },
  {
   "cell_type": "code",
   "execution_count": 3,
   "metadata": {},
   "outputs": [],
   "source": [
    "#we are taking reviews from brown corpus \n",
    "browntext = brown.words('cc17')\n"
   ]
  },
  {
   "cell_type": "code",
   "execution_count": 4,
   "metadata": {},
   "outputs": [
    {
     "data": {
      "text/plain": [
       "2370"
      ]
     },
     "execution_count": 4,
     "metadata": {},
     "output_type": "execute_result"
    }
   ],
   "source": [
    "#length of our text file \n",
    "len(browntext)\n"
   ]
  },
  {
   "cell_type": "code",
   "execution_count": 5,
   "metadata": {},
   "outputs": [
    {
     "data": {
      "text/plain": [
       "['The', 'reading', 'public', ',', 'the', ...]"
      ]
     },
     "execution_count": 5,
     "metadata": {},
     "output_type": "execute_result"
    }
   ],
   "source": [
    "browntext"
   ]
  },
  {
   "cell_type": "code",
   "execution_count": 6,
   "metadata": {},
   "outputs": [],
   "source": [
    "#frequency distribution \n",
    "fdist = nltk.FreqDist(w.lower() for w in browntext)\n"
   ]
  },
  {
   "cell_type": "code",
   "execution_count": 7,
   "metadata": {},
   "outputs": [
    {
     "data": {
      "text/plain": [
       "FreqDist({',': 163, 'the': 146, '.': 98, 'of': 70, 'and': 62, 'a': 43, 'is': 38, 'to': 36, 'in': 35, 'that': 29, ...})"
      ]
     },
     "execution_count": 7,
     "metadata": {},
     "output_type": "execute_result"
    }
   ],
   "source": [
    "fdist"
   ]
  },
  {
   "cell_type": "code",
   "execution_count": 8,
   "metadata": {},
   "outputs": [
    {
     "data": {
      "text/plain": [
       "FreqDist({'the': 131, 'and': 58, 'for': 24, 'The': 15, 'has': 14, 'Dr.': 12, 'fat': 9, 'are': 8, 'all': 6, 'his': 6, ...})"
      ]
     },
     "execution_count": 8,
     "metadata": {},
     "output_type": "execute_result"
    }
   ],
   "source": [
    "#conditional frequency distribution \n",
    "from nltk.probability import ConditionalFreqDist \n",
    "cfd=ConditionalFreqDist((len(word),word) for word in browntext) \n",
    "cfd[3]\n"
   ]
  },
  {
   "cell_type": "code",
   "execution_count": 10,
   "metadata": {},
   "outputs": [
    {
     "data": {
      "text/plain": [
       "FreqDist({',': 163, '.': 98, 'a': 40, '(': 13, ')': 13, ':': 11, 'A': 3, ';': 2, '8': 1, 'K': 1, ...})"
      ]
     },
     "execution_count": 10,
     "metadata": {},
     "output_type": "execute_result"
    }
   ],
   "source": [
    "cfd[1]"
   ]
  },
  {
   "cell_type": "code",
   "execution_count": null,
   "metadata": {},
   "outputs": [],
   "source": []
  },
  {
   "cell_type": "code",
   "execution_count": 9,
   "metadata": {},
   "outputs": [
    {
     "name": "stdout",
     "output_type": "stream",
     "text": [
      "['The reading public , the theatergoing public , the skindiving public , the horse-playing public -- all these and others fill substantial roles in U.S. life , but none is so varied , vast and vigilant as the eating public .', 'The Department of Agriculture averaged out U.S. food consumption last year at 1,488 lbs.', 'per person , which , allowing for the 17 million Americans that John Kennedy said go to bed hungry every night , means that certain gluttons on the upper end must somehow down 8 lbs.', 'or more a day .', 'That mother hen of the weight-height tables , the Metropolitan Life Insurance Co. , clucks that 48 million Americans are overweight .', 'Through previous centuries , eating changed by nearly imperceptible degrees , and mostly toward just getting enough .', 'Now big forces buffet food .', \"For the first time in history , the U.S. has produced a society in which less than one-tenth of the people turn out so much food that the Government's most embarrassing problem is how to dispose inconspicuously of 100 million tons of surplus farm produce .\", 'In this same society , the plain citizen can with an average of only one-fifth his income buy more calories than he can consume .', 'Refrigeration , automated processing and packaging conspire to defy season and banish spoilage .', 'And in the wake of the new affluence and the new techniques of processing comes a new American interest in how what people eat affects their health .', 'To eat is human , the nation is learning to think , to survive divine .', 'Fads , facts Not all the concern for health is well directed .', 'From the fusty panaceas of spinach , eggs and prunes , the U.S. has progressed to curds , concentrates and capsules .', 'Each year , reports the American Medical Association , ten million Americans spend $900 million on vitamins , tonics and other food supplements .', \"At juice bars in Los Angeles' 35 `` health '' stores , a new sensation is a pink , high-protein cocktail , concocted of dried eggs , powdered milk and cherry-flavored No-Cal , which sells for 59-cents per 8-oz.\", 'glass .', 'Grocery stores sell dozens of foods that boast of having almost no food value at all .', 'But a big part of the public wants to know facts about diet and health , and a big group of U.S. scientists wants to supply them .', \"The man most firmly at grips with the problem is the University of Minnesota's Physiologist Ancel Keys , 57 , inventor of the wartime K ( for Keys ) ration and author of last year's bestselling Eat Well And Stay Well .\", \"From his birch-paneled office in the Laboratory of Physiological Hygiene , under the university's football stadium in Minneapolis ( `` We get a rumble on every touchdown '' ) , blocky , grey-haired Dr. Keys directs an ambitious , $200,000-a-year experiment on diet , which spans three continents and seven nations and is still growing .\", 'Pursuing it , he has logged 500,000 miles , suffered indescribable digestive indignities , and meticulously collected physiological data on the health and eating habits of 10,000 individuals , from Bantu tribesmen to Italian contadini .', \"He has measured the skinfolds ( the fleshy areas under the shoulder blades ) of Neapolitan firemen , studied the metabolism of Finnish woodcutters , analyzed the `` mealie-meal '' eaten by Capetown coloreds , and experimented on Minneapolis businessmen .\", 'And fats .', \"Keys's findings , though far from complete , are likely to smash many an eating cliche .\", \"Vitamins , eggs and milk begin to look like foods to hold down on ( though mothers' milk is still the ticket ) .\", 'Readings of the number of milligrams of cholesterol in the blood , which seem to have value in predicting heart attacks , are becoming as routine as the electrocardiogram , which can show that the heart has suffered a symptomatic attack .', 'Already many an American knows his count , and rejoices or worries depending on whether it is nearer 180 ( safe ) or 250 ( dangerous ) .', \"Out of cholesterol come Keys's main messages so far : Americans eat too much .\", 'The typical U.S. daily menu , says Dr. Keys , contains 3,000 calories , should contain 2,300 .', 'And extra weight increases the risk of cancer , diabetes , artery disease and heart attack .', 'Americans eat too much fat .', 'With meat , milk , butter and ice cream , the calorie-heavy U.S. diet is 40% fat , and most of that is saturated fat -- the insidious kind , says Dr. Keys , that increases blood cholesterol , damages arteries , and leads to coronary disease .', 'Obesity : a malnutrition .', \"Throughout much of the world , food is still so scarce that half of the earth's population has trouble getting the 1,600 calories a day necessary to sustain life .\", 'The deficiency diseases -- scurvy , tropical sprue , pellagra -- run rampant .', \"In West Africa , for example , where meat is a luxury and babies must be weaned early to make room at the breast for later arrivals , a childhood menace is kwashiorkor , or `` Red Johnny '' , a growth-stunting protein deficiency ( signs : reddish hair , bloated belly ) that kills more than half its victims , leaves the rest prey for parasites and lingering tropical disease .\", 'In the well-fed U.S. , deficiency diseases have virtually vanished in the past 20 years .', \"Today , as Harrison's Principles Of Internal Medicine , a standard internist's text , puts it , `` The most common form of malnutrition is caloric excess or obesity '' .\", 'Puritan New England regarded obesity as a flagrant symbol of intemperance , and thus a sin .', \"Says Keys : `` Maybe if the idea got around again that obesity is immoral , the fat man would start to think '' .\", 'Morals aside , the fat man has plenty to worry about -- over and above the fact that no one any longer loves him .', \"The simple mechanical strain of overweight , says New York's Dr. Norman Jolliffe , can overburden and damage the heart `` for much the same reason that a Chevrolet engine in a Cadillac body would wear out sooner than if it were in a body for which it was built '' .\", 'The fat man has trouble buying life insurance or has to pay higher premiums .', 'He has -- for unclear reasons -- a 25% higher death rate from cancer .', 'He is particularly vulnerable to diabetes .', 'He may find even moderate physical exertion uncomfortable , because excess body fat hampers his breathing and restricts his muscular movement .', \"Physiologically , people overeat because what Dr. Jolliffe calls the `` appestat '' is set too high .\", \"The appestat , which adjusts the appetite to keep weight constant , is located , says Jolliffe , in the hypothalamus -- near the body's temperature , sleep and water-balance controls .\", 'Physical exercise raises the appestat .', 'So does cold weather .', 'In moderate doses , alcohol narcotizes the appestat and enhances appetite ( the original reason for the cocktail ) ; ; but because liquor has a high caloric value -- 100 calories per oz.', '-- the heavy drinker is seldom hungry .', 'In rare cases , diseases such as encephalitis or a pituitary tumor may damage the appestat permanently , destroying nearly all sense of satiety .', 'Food for frustration .', 'Far more frequently , overeating is the result of a psychological compulsion .', \"It may be fostered by frustration , depression , insecurity -- or , in children , simply by the desire to stop an anxious mother's nagging .\", 'Some families place undue emphasis on food : conversations center on it , and rich delicacies are offered as rewards , withheld as punishment .', \"The result says Jolliffe : `` The child gains the feeling that food is the purpose of life '' .\", 'Food may act as a sedative , giving temporary emotional solace , just as , for some people , alcohol does .', 'Reports Dr. Keys : `` A fairly common experience for us is the wife who finds her husband staying out more and more .', 'He may be interested in another woman , or just like being with the boys .', 'So she fishes around in the cupboard and hauls out a chocolate cake .', \"It's a matter of boredom , and the subconscious feeling that she is entitled to something , because she's being deprived of something else '' .\", 'For the army of compulsive eaters -- from the nibblers and the gobblers to the downright gluttons -- reducing is a war with the will that is rarely won .', \"Physiologist Keys flatly dismisses such appetite depressants as the amphetamines ( Benzedrine , Dexedrine ) as dangerous `` crutches for a weak will '' .\", \"Keys has no such objections to Metrecal , Quaker Oats's Quota and other 900-calorie milk formulas that are currently winning favor from dieters .\", \"`` Metrecal is a pretty complete food '' , he says .\", '`` It contains large amounts of protein , vitamins and minerals .', \"In the quantity of 900 calories a day , anyone will lose weight on it -- 20 , 30 or 40 lbs. ''\", '.', 'But Keys worries that the Metrecal drinker will never make either the psychological or physiological adjustment to the idea of eating smaller portions of food .', 'That remarkable cholesterol .', \"Despite his personal distaste for obesity ( `` disgusting '' ) , Dr. Keys has only an incidental interest in how much Americans eat .\", \"What concerns him much more is the relationship of diet to the nation's No.\", '1 killer : coronary artery disease , which accounts for more than half of all heart fatalities and kills 500,000 Americans a year -- twice the toll from all varieties of cancer , five times the deaths from automobile accidents .', \"Cholesterol , the cornerstone of Dr. Keys's theory , is a mysterious yellowish , waxy substance , chemically a crystalline alcohol .\", \"Scientists assume that cholesterol ( from the Greek chole , meaning bile , and sterios , meaning solid ) is somehow necessary for the formation of brain cells , since it accounts for about 2% of the brain's total solid weight .\", 'They know it is the chief ingredient in gallstones .', 'They suspect it plays a role in the production of adrenal hormones , and they believe it is essential to the transport of fats throughout the circulatory system .', 'But they cannot fully explain the process of its manufacture by the human liver .', 'Although the fatty protein molecules , carried in the blood and partly composed of cholesterol , are water soluble , cholesterol itself is insoluble , and cannot be destroyed by the body .', \"`` A remarkable substance '' , says Dr. Keys , `` quite apart from its tendency to be deposited in the walls of arteries '' .\", 'When thus deposited , Keys says that cholesterol is mainly responsible for the arterial blockages that culminate in heart attacks .', 'Explains Keys : As the fatty protein molecules travel in the bloodstream , they are deposited in the intima , or inner wall of a coronary artery .', 'The proteins and fats are burned off , and the cholesterol is left behind .', 'As cholesterol piles up , it narrows , irritates and damages the artery , encouraging formation of calcium deposits and slowing circulation .', 'Eventually , says Keys , one of two things happens .', 'A clot forms at the site , seals off the flow of blood to the heart and provokes a heart attack .', \"Or ( more commonly , thinks Keys ) the deposits themselves get so big that they choke off the artery's flow to the point that an infarct occurs : the heart muscle is suffocated , cells supplied by the artery die , and the heart is permanently , perhaps fatally injured .\", 'Fats & coronaries .', \"Ordinarily , the human liver synthesizes only enough cholesterol to satisfy the body's needs -- for transportation of fats and for production of bile .\", 'Even eggs and other cholesterol-rich foods , eaten in normal amounts , says Dr. Keys , do not materially affect the amount of cholesterol in the blood .', 'But fatty foods do .', 'During World War 2 , , doctors in The Netherlands and Scandinavia noted a curious fact : despite the stresses of Nazi occupation , the death rate from coronary artery disease was slowly dropping .', 'Not until long after the war -- 1950 , in fact -- did they get a hint of the reason .', \"That year , Sweden's Haqvin Malmros showed that the sinking death rate neatly coincided with increasingly severe restrictions on fatty foods .\", \"That same year the University of California's Dr. Laurance Kinsell , timing oxidation rates of blood fats , stumbled onto the discovery that many vegetable fats cause blood cholesterol levels to drop radically , while animal fats cause them to rise .\", 'Here Keys and others , such as Dr. A. E. Ahrens of the Rockefeller Institute , took over to demonstrate the chemical difference between vegetable and animal fats -- and even between different varieties of each .', 'All natural food fats fall into one of three categories -- saturated , mono-unsaturated and poly-unsaturated .', 'The degree of saturation depends on the number of hydrogen atoms on the fat molecule .', 'Saturated fats can accommodate no more hydrogens .', 'Mono-unsaturated fats have room for two more hydrogens on each molecule , and the poly-unsaturated fat molecule has room for at least four hydrogens .', 'The three fats have similar caloric values ( about 265 calories per oz. )', ', but each exerts a radically different influence on blood cholesterol .']\n"
     ]
    }
   ],
   "source": [
    "#1)converting list to string and tokenizing sentences\n",
    "from nltk.tokenize import sent_tokenize\n",
    "#converting list to single string str1\n",
    "str=\" \".join(browntext)\n",
    "tokenizedstr=sent_tokenize(str)\n",
    "print(tokenizedstr)"
   ]
  },
  {
   "cell_type": "code",
   "execution_count": 31,
   "metadata": {},
   "outputs": [
    {
     "name": "stdout",
     "output_type": "stream",
     "text": [
      "[('The', 'DT'), ('reading', 'NN'), ('public', 'NN'), (',', ','), ('the', 'DT'), ('theatergoing', 'VBG'), ('public', 'JJ'), (',', ','), ('the', 'DT'), ('skindiving', 'VBG'), ('public', 'JJ'), (',', ','), ('the', 'DT'), ('horse-playing', 'JJ'), ('public', 'NN'), ('--', ':'), ('all', 'DT'), ('these', 'DT'), ('and', 'CC'), ('others', 'NNS'), ('fill', 'VBP'), ('substantial', 'JJ'), ('roles', 'NNS'), ('in', 'IN'), ('U.S.', 'NNP'), ('life', 'NN'), (',', ','), ('but', 'CC'), ('none', 'NN'), ('is', 'VBZ'), ('so', 'RB'), ('varied', 'JJ'), (',', ','), ('vast', 'JJ'), ('and', 'CC'), ('vigilant', 'JJ'), ('as', 'IN'), ('the', 'DT'), ('eating', 'VBG'), ('public', 'NN'), ('.', '.')]\n",
      "[('The', 'DT'), ('Department', 'NNP'), ('of', 'IN'), ('Agriculture', 'NNP'), ('averaged', 'VBD'), ('out', 'RP'), ('U.S.', 'NNP'), ('food', 'NN'), ('consumption', 'NN'), ('last', 'JJ'), ('year', 'NN'), ('at', 'IN'), ('1,488', 'CD'), ('lbs', 'NN'), ('.', '.')]\n",
      "[('per', 'IN'), ('person', 'NN'), (',', ','), ('which', 'WDT'), (',', ','), ('allowing', 'VBG'), ('for', 'IN'), ('the', 'DT'), ('17', 'CD'), ('million', 'CD'), ('Americans', 'NNPS'), ('that', 'WDT'), ('John', 'NNP'), ('Kennedy', 'NNP'), ('said', 'VBD'), ('go', 'VB'), ('to', 'TO'), ('bed', 'VB'), ('hungry', 'JJ'), ('every', 'DT'), ('night', 'NN'), (',', ','), ('means', 'VBZ'), ('that', 'IN'), ('certain', 'JJ'), ('gluttons', 'NNS'), ('on', 'IN'), ('the', 'DT'), ('upper', 'JJ'), ('end', 'NN'), ('must', 'MD'), ('somehow', 'VB'), ('down', 'RP'), ('8', 'CD'), ('lbs', 'NN'), ('.', '.')]\n",
      "[('or', 'CC'), ('more', 'RBR'), ('a', 'DT'), ('day', 'NN'), ('.', '.')]\n",
      "[('That', 'DT'), ('mother', 'NN'), ('hen', 'NN'), ('of', 'IN'), ('the', 'DT'), ('weight-height', 'JJ'), ('tables', 'NNS'), (',', ','), ('the', 'DT'), ('Metropolitan', 'NNP'), ('Life', 'NNP'), ('Insurance', 'NNP'), ('Co.', 'NNP'), (',', ','), ('clucks', 'VBZ'), ('that', 'IN'), ('48', 'CD'), ('million', 'CD'), ('Americans', 'NNPS'), ('are', 'VBP'), ('overweight', 'VBN'), ('.', '.')]\n",
      "[('Through', 'IN'), ('previous', 'JJ'), ('centuries', 'NNS'), (',', ','), ('eating', 'VBG'), ('changed', 'VBN'), ('by', 'IN'), ('nearly', 'RB'), ('imperceptible', 'JJ'), ('degrees', 'NNS'), (',', ','), ('and', 'CC'), ('mostly', 'RB'), ('toward', 'IN'), ('just', 'RB'), ('getting', 'VBG'), ('enough', 'RB'), ('.', '.')]\n",
      "[('Now', 'RB'), ('big', 'JJ'), ('forces', 'NNS'), ('buffet', 'VBD'), ('food', 'NN'), ('.', '.')]\n",
      "[('For', 'IN'), ('the', 'DT'), ('first', 'JJ'), ('time', 'NN'), ('in', 'IN'), ('history', 'NN'), (',', ','), ('the', 'DT'), ('U.S.', 'NNP'), ('has', 'VBZ'), ('produced', 'VBN'), ('a', 'DT'), ('society', 'NN'), ('in', 'IN'), ('which', 'WDT'), ('less', 'JJR'), ('than', 'IN'), ('one-tenth', 'NN'), ('of', 'IN'), ('the', 'DT'), ('people', 'NNS'), ('turn', 'VBP'), ('out', 'RP'), ('so', 'RB'), ('much', 'JJ'), ('food', 'NN'), ('that', 'IN'), ('the', 'DT'), ('Government', 'NNP'), (\"'s\", 'POS'), ('most', 'JJS'), ('embarrassing', 'NN'), ('problem', 'NN'), ('is', 'VBZ'), ('how', 'WRB'), ('to', 'TO'), ('dispose', 'VB'), ('inconspicuously', 'RB'), ('of', 'IN'), ('100', 'CD'), ('million', 'CD'), ('tons', 'NNS'), ('of', 'IN'), ('surplus', 'NN'), ('farm', 'NN'), ('produce', 'NN'), ('.', '.')]\n",
      "[('In', 'IN'), ('this', 'DT'), ('same', 'JJ'), ('society', 'NN'), (',', ','), ('the', 'DT'), ('plain', 'NN'), ('citizen', 'NN'), ('can', 'MD'), ('with', 'IN'), ('an', 'DT'), ('average', 'NN'), ('of', 'IN'), ('only', 'JJ'), ('one-fifth', 'JJ'), ('his', 'PRP$'), ('income', 'NN'), ('buy', 'VB'), ('more', 'JJR'), ('calories', 'NNS'), ('than', 'IN'), ('he', 'PRP'), ('can', 'MD'), ('consume', 'VB'), ('.', '.')]\n",
      "[('Refrigeration', 'NN'), (',', ','), ('automated', 'VBD'), ('processing', 'NN'), ('and', 'CC'), ('packaging', 'NN'), ('conspire', 'NN'), ('to', 'TO'), ('defy', 'VB'), ('season', 'NN'), ('and', 'CC'), ('banish', 'JJ'), ('spoilage', 'NN'), ('.', '.')]\n",
      "[('And', 'CC'), ('in', 'IN'), ('the', 'DT'), ('wake', 'NN'), ('of', 'IN'), ('the', 'DT'), ('new', 'JJ'), ('affluence', 'NN'), ('and', 'CC'), ('the', 'DT'), ('new', 'JJ'), ('techniques', 'NNS'), ('of', 'IN'), ('processing', 'NN'), ('comes', 'VBZ'), ('a', 'DT'), ('new', 'JJ'), ('American', 'JJ'), ('interest', 'NN'), ('in', 'IN'), ('how', 'WRB'), ('what', 'WP'), ('people', 'NNS'), ('eat', 'VBP'), ('affects', 'VBZ'), ('their', 'PRP$'), ('health', 'NN'), ('.', '.')]\n",
      "[('To', 'TO'), ('eat', 'VB'), ('is', 'VBZ'), ('human', 'JJ'), (',', ','), ('the', 'DT'), ('nation', 'NN'), ('is', 'VBZ'), ('learning', 'VBG'), ('to', 'TO'), ('think', 'VB'), (',', ','), ('to', 'TO'), ('survive', 'VB'), ('divine', 'NN'), ('.', '.')]\n",
      "[('Fads', 'NNS'), (',', ','), ('facts', 'NNS'), ('Not', 'RB'), ('all', 'PDT'), ('the', 'DT'), ('concern', 'NN'), ('for', 'IN'), ('health', 'NN'), ('is', 'VBZ'), ('well', 'RB'), ('directed', 'VBN'), ('.', '.')]\n",
      "[('From', 'IN'), ('the', 'DT'), ('fusty', 'JJ'), ('panaceas', 'NNS'), ('of', 'IN'), ('spinach', 'NN'), (',', ','), ('eggs', 'NNS'), ('and', 'CC'), ('prunes', 'NNS'), (',', ','), ('the', 'DT'), ('U.S.', 'NNP'), ('has', 'VBZ'), ('progressed', 'VBN'), ('to', 'TO'), ('curds', 'NNS'), (',', ','), ('concentrates', 'NNS'), ('and', 'CC'), ('capsules', 'NNS'), ('.', '.')]\n",
      "[('Each', 'DT'), ('year', 'NN'), (',', ','), ('reports', 'VBZ'), ('the', 'DT'), ('American', 'NNP'), ('Medical', 'NNP'), ('Association', 'NNP'), (',', ','), ('ten', 'CD'), ('million', 'CD'), ('Americans', 'NNPS'), ('spend', 'VBP'), ('$', '$'), ('900', 'CD'), ('million', 'CD'), ('on', 'IN'), ('vitamins', 'NNS'), (',', ','), ('tonics', 'NNS'), ('and', 'CC'), ('other', 'JJ'), ('food', 'NN'), ('supplements', 'NNS'), ('.', '.')]\n",
      "[('At', 'IN'), ('juice', 'NN'), ('bars', 'NNS'), ('in', 'IN'), ('Los', 'NNP'), ('Angeles', 'NNP'), (\"'\", 'POS'), ('35', 'CD'), ('``', '``'), ('health', 'NN'), ('``', '``'), ('stores', 'NNS'), (',', ','), ('a', 'DT'), ('new', 'JJ'), ('sensation', 'NN'), ('is', 'VBZ'), ('a', 'DT'), ('pink', 'NN'), (',', ','), ('high-protein', 'JJ'), ('cocktail', 'NN'), (',', ','), ('concocted', 'VBN'), ('of', 'IN'), ('dried', 'JJ'), ('eggs', 'NNS'), (',', ','), ('powdered', 'VBN'), ('milk', 'NN'), ('and', 'CC'), ('cherry-flavored', 'JJ'), ('No-Cal', 'NNP'), (',', ','), ('which', 'WDT'), ('sells', 'VBZ'), ('for', 'IN'), ('59-cents', 'NNS'), ('per', 'IN'), ('8-oz', 'CD'), ('.', '.')]\n",
      "[('glass', 'NN'), ('.', '.')]\n",
      "[('Grocery', 'NNP'), ('stores', 'NNS'), ('sell', 'VBP'), ('dozens', 'NNS'), ('of', 'IN'), ('foods', 'NNS'), ('that', 'IN'), ('boast', 'NN'), ('of', 'IN'), ('having', 'VBG'), ('almost', 'RB'), ('no', 'DT'), ('food', 'NN'), ('value', 'NN'), ('at', 'IN'), ('all', 'DT'), ('.', '.')]\n",
      "[('But', 'CC'), ('a', 'DT'), ('big', 'JJ'), ('part', 'NN'), ('of', 'IN'), ('the', 'DT'), ('public', 'JJ'), ('wants', 'VBZ'), ('to', 'TO'), ('know', 'VB'), ('facts', 'NNS'), ('about', 'IN'), ('diet', 'JJ'), ('and', 'CC'), ('health', 'NN'), (',', ','), ('and', 'CC'), ('a', 'DT'), ('big', 'JJ'), ('group', 'NN'), ('of', 'IN'), ('U.S.', 'NNP'), ('scientists', 'NNS'), ('wants', 'VBZ'), ('to', 'TO'), ('supply', 'VB'), ('them', 'PRP'), ('.', '.')]\n",
      "[('The', 'DT'), ('man', 'NN'), ('most', 'JJS'), ('firmly', 'RB'), ('at', 'IN'), ('grips', 'NNS'), ('with', 'IN'), ('the', 'DT'), ('problem', 'NN'), ('is', 'VBZ'), ('the', 'DT'), ('University', 'NNP'), ('of', 'IN'), ('Minnesota', 'NNP'), (\"'s\", 'POS'), ('Physiologist', 'NNP'), ('Ancel', 'NNP'), ('Keys', 'NNP'), (',', ','), ('57', 'CD'), (',', ','), ('inventor', 'NN'), ('of', 'IN'), ('the', 'DT'), ('wartime', 'NN'), ('K', 'NNP'), ('(', '('), ('for', 'IN'), ('Keys', 'NNP'), (')', ')'), ('ration', 'NN'), ('and', 'CC'), ('author', 'NN'), ('of', 'IN'), ('last', 'JJ'), ('year', 'NN'), (\"'s\", 'POS'), ('bestselling', 'NN'), ('Eat', 'NNP'), ('Well', 'NNP'), ('And', 'CC'), ('Stay', 'NNP'), ('Well', 'NNP'), ('.', '.')]\n",
      "[('From', 'IN'), ('his', 'PRP$'), ('birch-paneled', 'JJ'), ('office', 'NN'), ('in', 'IN'), ('the', 'DT'), ('Laboratory', 'NNP'), ('of', 'IN'), ('Physiological', 'NNP'), ('Hygiene', 'NNP'), (',', ','), ('under', 'IN'), ('the', 'DT'), ('university', 'NN'), (\"'s\", 'POS'), ('football', 'NN'), ('stadium', 'NN'), ('in', 'IN'), ('Minneapolis', 'NNP'), ('(', '('), ('``', '``'), ('We', 'PRP'), ('get', 'VBP'), ('a', 'DT'), ('rumble', 'NN'), ('on', 'IN'), ('every', 'DT'), ('touchdown', 'IN'), ('``', '``'), (')', ')'), (',', ','), ('blocky', 'JJ'), (',', ','), ('grey-haired', 'JJ'), ('Dr.', 'NNP'), ('Keys', 'NNP'), ('directs', 'VBZ'), ('an', 'DT'), ('ambitious', 'JJ'), (',', ','), ('$', '$'), ('200,000-a-year', 'JJ'), ('experiment', 'NN'), ('on', 'IN'), ('diet', 'NN'), (',', ','), ('which', 'WDT'), ('spans', 'VBZ'), ('three', 'CD'), ('continents', 'NNS'), ('and', 'CC'), ('seven', 'CD'), ('nations', 'NNS'), ('and', 'CC'), ('is', 'VBZ'), ('still', 'RB'), ('growing', 'VBG'), ('.', '.')]\n",
      "[('Pursuing', 'VBG'), ('it', 'PRP'), (',', ','), ('he', 'PRP'), ('has', 'VBZ'), ('logged', 'VBN'), ('500,000', 'CD'), ('miles', 'NNS'), (',', ','), ('suffered', 'VBD'), ('indescribable', 'JJ'), ('digestive', 'JJ'), ('indignities', 'NNS'), (',', ','), ('and', 'CC'), ('meticulously', 'RB'), ('collected', 'JJ'), ('physiological', 'JJ'), ('data', 'NNS'), ('on', 'IN'), ('the', 'DT'), ('health', 'NN'), ('and', 'CC'), ('eating', 'VBG'), ('habits', 'NNS'), ('of', 'IN'), ('10,000', 'CD'), ('individuals', 'NNS'), (',', ','), ('from', 'IN'), ('Bantu', 'NNP'), ('tribesmen', 'NNS'), ('to', 'TO'), ('Italian', 'JJ'), ('contadini', 'NN'), ('.', '.')]\n",
      "[('He', 'PRP'), ('has', 'VBZ'), ('measured', 'VBN'), ('the', 'DT'), ('skinfolds', 'NNS'), ('(', '('), ('the', 'DT'), ('fleshy', 'NN'), ('areas', 'NNS'), ('under', 'IN'), ('the', 'DT'), ('shoulder', 'NN'), ('blades', 'NNS'), (')', ')'), ('of', 'IN'), ('Neapolitan', 'NNP'), ('firemen', 'NNS'), (',', ','), ('studied', 'VBD'), ('the', 'DT'), ('metabolism', 'NN'), ('of', 'IN'), ('Finnish', 'JJ'), ('woodcutters', 'NNS'), (',', ','), ('analyzed', 'VBD'), ('the', 'DT'), ('``', '``'), ('mealie-meal', 'JJ'), ('``', '``'), ('eaten', 'VBN'), ('by', 'IN'), ('Capetown', 'NNP'), ('coloreds', 'NNS'), (',', ','), ('and', 'CC'), ('experimented', 'VBD'), ('on', 'IN'), ('Minneapolis', 'NNP'), ('businessmen', 'NNS'), ('.', '.')]\n",
      "[('And', 'CC'), ('fats', 'NNS'), ('.', '.')]\n",
      "[('Keys', 'NNP'), (\"'s\", 'POS'), ('findings', 'NNS'), (',', ','), ('though', 'IN'), ('far', 'RB'), ('from', 'IN'), ('complete', 'JJ'), (',', ','), ('are', 'VBP'), ('likely', 'JJ'), ('to', 'TO'), ('smash', 'VB'), ('many', 'JJ'), ('an', 'DT'), ('eating', 'JJ'), ('cliche', 'NN'), ('.', '.')]\n",
      "[('Vitamins', 'NNS'), (',', ','), ('eggs', 'NNS'), ('and', 'CC'), ('milk', 'NN'), ('begin', 'VBP'), ('to', 'TO'), ('look', 'VB'), ('like', 'IN'), ('foods', 'NNS'), ('to', 'TO'), ('hold', 'VB'), ('down', 'RP'), ('on', 'IN'), ('(', '('), ('though', 'IN'), ('mothers', 'NNS'), (\"'\", 'POS'), ('milk', 'NN'), ('is', 'VBZ'), ('still', 'RB'), ('the', 'DT'), ('ticket', 'NN'), (')', ')'), ('.', '.')]\n",
      "[('Readings', 'NNS'), ('of', 'IN'), ('the', 'DT'), ('number', 'NN'), ('of', 'IN'), ('milligrams', 'NNS'), ('of', 'IN'), ('cholesterol', 'NN'), ('in', 'IN'), ('the', 'DT'), ('blood', 'NN'), (',', ','), ('which', 'WDT'), ('seem', 'VBP'), ('to', 'TO'), ('have', 'VB'), ('value', 'NN'), ('in', 'IN'), ('predicting', 'VBG'), ('heart', 'NN'), ('attacks', 'NNS'), (',', ','), ('are', 'VBP'), ('becoming', 'VBG'), ('as', 'RB'), ('routine', 'JJ'), ('as', 'IN'), ('the', 'DT'), ('electrocardiogram', 'NN'), (',', ','), ('which', 'WDT'), ('can', 'MD'), ('show', 'VB'), ('that', 'IN'), ('the', 'DT'), ('heart', 'NN'), ('has', 'VBZ'), ('suffered', 'VBN'), ('a', 'DT'), ('symptomatic', 'JJ'), ('attack', 'NN'), ('.', '.')]\n",
      "[('Already', 'RB'), ('many', 'JJ'), ('an', 'DT'), ('American', 'JJ'), ('knows', 'VBZ'), ('his', 'PRP$'), ('count', 'NN'), (',', ','), ('and', 'CC'), ('rejoices', 'NNS'), ('or', 'CC'), ('worries', 'NNS'), ('depending', 'VBG'), ('on', 'IN'), ('whether', 'IN'), ('it', 'PRP'), ('is', 'VBZ'), ('nearer', 'JJ'), ('180', 'CD'), ('(', '('), ('safe', 'JJ'), (')', ')'), ('or', 'CC'), ('250', 'CD'), ('(', '('), ('dangerous', 'JJ'), (')', ')'), ('.', '.')]\n",
      "[('Out', 'IN'), ('of', 'IN'), ('cholesterol', 'NN'), ('come', 'VBP'), ('Keys', 'NNP'), (\"'s\", 'POS'), ('main', 'JJ'), ('messages', 'NNS'), ('so', 'RB'), ('far', 'RB'), (':', ':'), ('Americans', 'NNPS'), ('eat', 'VBP'), ('too', 'RB'), ('much', 'JJ'), ('.', '.')]\n",
      "[('The', 'DT'), ('typical', 'JJ'), ('U.S.', 'NNP'), ('daily', 'JJ'), ('menu', 'NNS'), (',', ','), ('says', 'VBZ'), ('Dr.', 'NNP'), ('Keys', 'NNP'), (',', ','), ('contains', 'VBZ'), ('3,000', 'CD'), ('calories', 'NNS'), (',', ','), ('should', 'MD'), ('contain', 'VB'), ('2,300', 'CD'), ('.', '.')]\n",
      "[('And', 'CC'), ('extra', 'JJ'), ('weight', 'NN'), ('increases', 'VBZ'), ('the', 'DT'), ('risk', 'NN'), ('of', 'IN'), ('cancer', 'NN'), (',', ','), ('diabetes', 'VBZ'), (',', ','), ('artery', 'JJ'), ('disease', 'NN'), ('and', 'CC'), ('heart', 'NN'), ('attack', 'NN'), ('.', '.')]\n",
      "[('Americans', 'NNPS'), ('eat', 'VBP'), ('too', 'RB'), ('much', 'JJ'), ('fat', 'NN'), ('.', '.')]\n",
      "[('With', 'IN'), ('meat', 'NN'), (',', ','), ('milk', 'NN'), (',', ','), ('butter', 'NN'), ('and', 'CC'), ('ice', 'NN'), ('cream', 'NN'), (',', ','), ('the', 'DT'), ('calorie-heavy', 'JJ'), ('U.S.', 'NNP'), ('diet', 'NN'), ('is', 'VBZ'), ('40', 'CD'), ('%', 'NN'), ('fat', 'NN'), (',', ','), ('and', 'CC'), ('most', 'JJS'), ('of', 'IN'), ('that', 'DT'), ('is', 'VBZ'), ('saturated', 'VBN'), ('fat', 'JJ'), ('--', ':'), ('the', 'DT'), ('insidious', 'JJ'), ('kind', 'NN'), (',', ','), ('says', 'VBZ'), ('Dr.', 'NNP'), ('Keys', 'NNP'), (',', ','), ('that', 'WDT'), ('increases', 'VBZ'), ('blood', 'NN'), ('cholesterol', 'NN'), (',', ','), ('damages', 'NNS'), ('arteries', 'NNS'), (',', ','), ('and', 'CC'), ('leads', 'VBZ'), ('to', 'TO'), ('coronary', 'JJ'), ('disease', 'NN'), ('.', '.')]\n",
      "[('Obesity', 'NN'), (':', ':'), ('a', 'DT'), ('malnutrition', 'NN'), ('.', '.')]\n",
      "[('Throughout', 'RB'), ('much', 'RB'), ('of', 'IN'), ('the', 'DT'), ('world', 'NN'), (',', ','), ('food', 'NN'), ('is', 'VBZ'), ('still', 'RB'), ('so', 'RB'), ('scarce', 'JJ'), ('that', 'IN'), ('half', 'NN'), ('of', 'IN'), ('the', 'DT'), ('earth', 'NN'), (\"'s\", 'POS'), ('population', 'NN'), ('has', 'VBZ'), ('trouble', 'NN'), ('getting', 'VBG'), ('the', 'DT'), ('1,600', 'CD'), ('calories', 'NNS'), ('a', 'DT'), ('day', 'NN'), ('necessary', 'JJ'), ('to', 'TO'), ('sustain', 'VB'), ('life', 'NN'), ('.', '.')]\n",
      "[('The', 'DT'), ('deficiency', 'NN'), ('diseases', 'VBZ'), ('--', ':'), ('scurvy', 'NN'), (',', ','), ('tropical', 'JJ'), ('sprue', 'NN'), (',', ','), ('pellagra', 'NN'), ('--', ':'), ('run', 'VB'), ('rampant', 'JJ'), ('.', '.')]\n",
      "[('In', 'IN'), ('West', 'NNP'), ('Africa', 'NNP'), (',', ','), ('for', 'IN'), ('example', 'NN'), (',', ','), ('where', 'WRB'), ('meat', 'NN'), ('is', 'VBZ'), ('a', 'DT'), ('luxury', 'NN'), ('and', 'CC'), ('babies', 'NNS'), ('must', 'MD'), ('be', 'VB'), ('weaned', 'VBN'), ('early', 'JJ'), ('to', 'TO'), ('make', 'VB'), ('room', 'NN'), ('at', 'IN'), ('the', 'DT'), ('breast', 'NN'), ('for', 'IN'), ('later', 'JJ'), ('arrivals', 'NNS'), (',', ','), ('a', 'DT'), ('childhood', 'NN'), ('menace', 'NN'), ('is', 'VBZ'), ('kwashiorkor', 'VBN'), (',', ','), ('or', 'CC'), ('``', '``'), ('Red', 'JJ'), ('Johnny', 'NNP'), ('``', '``'), (',', ','), ('a', 'DT'), ('growth-stunting', 'JJ'), ('protein', 'NN'), ('deficiency', 'NN'), ('(', '('), ('signs', 'NNS'), (':', ':'), ('reddish', 'JJ'), ('hair', 'NN'), (',', ','), ('bloated', 'VBN'), ('belly', 'RB'), (')', ')'), ('that', 'WDT'), ('kills', 'VBZ'), ('more', 'JJR'), ('than', 'IN'), ('half', 'PDT'), ('its', 'PRP$'), ('victims', 'NNS'), (',', ','), ('leaves', 'VBZ'), ('the', 'DT'), ('rest', 'NN'), ('prey', 'NN'), ('for', 'IN'), ('parasites', 'NNS'), ('and', 'CC'), ('lingering', 'VBG'), ('tropical', 'JJ'), ('disease', 'NN'), ('.', '.')]\n",
      "[('In', 'IN'), ('the', 'DT'), ('well-fed', 'JJ'), ('U.S.', 'NNP'), (',', ','), ('deficiency', 'NN'), ('diseases', 'NNS'), ('have', 'VBP'), ('virtually', 'RB'), ('vanished', 'VBN'), ('in', 'IN'), ('the', 'DT'), ('past', 'JJ'), ('20', 'CD'), ('years', 'NNS'), ('.', '.')]\n",
      "[('Today', 'NN'), (',', ','), ('as', 'IN'), ('Harrison', 'NNP'), (\"'s\", 'POS'), ('Principles', 'NNP'), ('Of', 'IN'), ('Internal', 'NNP'), ('Medicine', 'NNP'), (',', ','), ('a', 'DT'), ('standard', 'JJ'), ('internist', 'NN'), (\"'s\", 'POS'), ('text', 'NN'), (',', ','), ('puts', 'VBZ'), ('it', 'PRP'), (',', ','), ('``', '``'), ('The', 'DT'), ('most', 'RBS'), ('common', 'JJ'), ('form', 'NN'), ('of', 'IN'), ('malnutrition', 'NN'), ('is', 'VBZ'), ('caloric', 'JJ'), ('excess', 'NN'), ('or', 'CC'), ('obesity', 'NN'), ('``', '``'), ('.', '.')]\n",
      "[('Puritan', 'NNP'), ('New', 'NNP'), ('England', 'NNP'), ('regarded', 'VBD'), ('obesity', 'NN'), ('as', 'IN'), ('a', 'DT'), ('flagrant', 'JJ'), ('symbol', 'NN'), ('of', 'IN'), ('intemperance', 'NN'), (',', ','), ('and', 'CC'), ('thus', 'RB'), ('a', 'DT'), ('sin', 'NN'), ('.', '.')]\n",
      "[('Says', 'VBZ'), ('Keys', 'NNP'), (':', ':'), ('``', '``'), ('Maybe', 'RB'), ('if', 'IN'), ('the', 'DT'), ('idea', 'NN'), ('got', 'VBD'), ('around', 'RB'), ('again', 'RB'), ('that', 'IN'), ('obesity', 'NN'), ('is', 'VBZ'), ('immoral', 'JJ'), (',', ','), ('the', 'DT'), ('fat', 'JJ'), ('man', 'NN'), ('would', 'MD'), ('start', 'VB'), ('to', 'TO'), ('think', 'VB'), ('``', '``'), ('.', '.')]\n",
      "[('Morals', 'NNS'), ('aside', 'RB'), (',', ','), ('the', 'DT'), ('fat', 'JJ'), ('man', 'NN'), ('has', 'VBZ'), ('plenty', 'VBN'), ('to', 'TO'), ('worry', 'VB'), ('about', 'RB'), ('--', ':'), ('over', 'IN'), ('and', 'CC'), ('above', 'IN'), ('the', 'DT'), ('fact', 'NN'), ('that', 'IN'), ('no', 'DT'), ('one', 'NN'), ('any', 'DT'), ('longer', 'JJR'), ('loves', 'VBZ'), ('him', 'PRP'), ('.', '.')]\n",
      "[('The', 'DT'), ('simple', 'JJ'), ('mechanical', 'JJ'), ('strain', 'NN'), ('of', 'IN'), ('overweight', 'NN'), (',', ','), ('says', 'VBZ'), ('New', 'NNP'), ('York', 'NNP'), (\"'s\", 'POS'), ('Dr.', 'NNP'), ('Norman', 'NNP'), ('Jolliffe', 'NNP'), (',', ','), ('can', 'MD'), ('overburden', 'VB'), ('and', 'CC'), ('damage', 'VB'), ('the', 'DT'), ('heart', 'NN'), ('``', '``'), ('for', 'IN'), ('much', 'RB'), ('the', 'DT'), ('same', 'JJ'), ('reason', 'NN'), ('that', 'IN'), ('a', 'DT'), ('Chevrolet', 'NNP'), ('engine', 'NN'), ('in', 'IN'), ('a', 'DT'), ('Cadillac', 'NNP'), ('body', 'NN'), ('would', 'MD'), ('wear', 'VB'), ('out', 'RP'), ('sooner', 'JJR'), ('than', 'IN'), ('if', 'IN'), ('it', 'PRP'), ('were', 'VBD'), ('in', 'IN'), ('a', 'DT'), ('body', 'NN'), ('for', 'IN'), ('which', 'WDT'), ('it', 'PRP'), ('was', 'VBD'), ('built', 'VBN'), ('``', '``'), ('.', '.')]\n",
      "[('The', 'DT'), ('fat', 'JJ'), ('man', 'NN'), ('has', 'VBZ'), ('trouble', 'NN'), ('buying', 'VBG'), ('life', 'NN'), ('insurance', 'NN'), ('or', 'CC'), ('has', 'VBZ'), ('to', 'TO'), ('pay', 'VB'), ('higher', 'JJR'), ('premiums', 'NNS'), ('.', '.')]\n",
      "[('He', 'PRP'), ('has', 'VBZ'), ('--', ':'), ('for', 'IN'), ('unclear', 'JJ'), ('reasons', 'NNS'), ('--', ':'), ('a', 'DT'), ('25', 'CD'), ('%', 'NN'), ('higher', 'JJR'), ('death', 'NN'), ('rate', 'NN'), ('from', 'IN'), ('cancer', 'NN'), ('.', '.')]\n",
      "[('He', 'PRP'), ('is', 'VBZ'), ('particularly', 'RB'), ('vulnerable', 'JJ'), ('to', 'TO'), ('diabetes', 'NNS'), ('.', '.')]\n",
      "[('He', 'PRP'), ('may', 'MD'), ('find', 'VB'), ('even', 'RB'), ('moderate', 'JJ'), ('physical', 'JJ'), ('exertion', 'NN'), ('uncomfortable', 'JJ'), (',', ','), ('because', 'IN'), ('excess', 'JJ'), ('body', 'NN'), ('fat', 'JJ'), ('hampers', 'NNS'), ('his', 'PRP$'), ('breathing', 'NN'), ('and', 'CC'), ('restricts', 'VBZ'), ('his', 'PRP$'), ('muscular', 'JJ'), ('movement', 'NN'), ('.', '.')]\n",
      "[('Physiologically', 'RB'), (',', ','), ('people', 'NNS'), ('overeat', 'VBP'), ('because', 'IN'), ('what', 'WP'), ('Dr.', 'NNP'), ('Jolliffe', 'NNP'), ('calls', 'VBZ'), ('the', 'DT'), ('``', '``'), ('appestat', 'JJ'), ('``', '``'), ('is', 'VBZ'), ('set', 'VBN'), ('too', 'RB'), ('high', 'JJ'), ('.', '.')]\n",
      "[('The', 'DT'), ('appestat', 'NN'), (',', ','), ('which', 'WDT'), ('adjusts', 'VBZ'), ('the', 'DT'), ('appetite', 'NN'), ('to', 'TO'), ('keep', 'VB'), ('weight', 'NN'), ('constant', 'NN'), (',', ','), ('is', 'VBZ'), ('located', 'VBN'), (',', ','), ('says', 'VBZ'), ('Jolliffe', 'NNP'), (',', ','), ('in', 'IN'), ('the', 'DT'), ('hypothalamus', 'NN'), ('--', ':'), ('near', 'IN'), ('the', 'DT'), ('body', 'NN'), (\"'s\", 'POS'), ('temperature', 'NN'), (',', ','), ('sleep', 'JJ'), ('and', 'CC'), ('water-balance', 'NN'), ('controls', 'NNS'), ('.', '.')]\n",
      "[('Physical', 'JJ'), ('exercise', 'NN'), ('raises', 'VBZ'), ('the', 'DT'), ('appestat', 'NN'), ('.', '.')]\n",
      "[('So', 'RB'), ('does', 'VBZ'), ('cold', 'VB'), ('weather', 'NN'), ('.', '.')]\n",
      "[('In', 'IN'), ('moderate', 'JJ'), ('doses', 'NNS'), (',', ','), ('alcohol', 'NN'), ('narcotizes', 'VBZ'), ('the', 'DT'), ('appestat', 'NN'), ('and', 'CC'), ('enhances', 'NNS'), ('appetite', 'RB'), ('(', '('), ('the', 'DT'), ('original', 'JJ'), ('reason', 'NN'), ('for', 'IN'), ('the', 'DT'), ('cocktail', 'NN'), (')', ')'), (';', ':'), (';', ':'), ('but', 'CC'), ('because', 'IN'), ('liquor', 'NN'), ('has', 'VBZ'), ('a', 'DT'), ('high', 'JJ'), ('caloric', 'NN'), ('value', 'NN'), ('--', ':'), ('100', 'CD'), ('calories', 'NNS'), ('per', 'IN'), ('oz', 'NN'), ('.', '.')]\n",
      "[('--', ':'), ('the', 'DT'), ('heavy', 'JJ'), ('drinker', 'NN'), ('is', 'VBZ'), ('seldom', 'RB'), ('hungry', 'JJ'), ('.', '.')]\n",
      "[('In', 'IN'), ('rare', 'JJ'), ('cases', 'NNS'), (',', ','), ('diseases', 'NNS'), ('such', 'JJ'), ('as', 'IN'), ('encephalitis', 'NN'), ('or', 'CC'), ('a', 'DT'), ('pituitary', 'JJ'), ('tumor', 'NN'), ('may', 'MD'), ('damage', 'VB'), ('the', 'DT'), ('appestat', 'NN'), ('permanently', 'RB'), (',', ','), ('destroying', 'VBG'), ('nearly', 'RB'), ('all', 'DT'), ('sense', 'NN'), ('of', 'IN'), ('satiety', 'NN'), ('.', '.')]\n",
      "[('Food', 'NN'), ('for', 'IN'), ('frustration', 'NN'), ('.', '.')]\n",
      "[('Far', 'RB'), ('more', 'RBR'), ('frequently', 'RB'), (',', ','), ('overeating', 'VBG'), ('is', 'VBZ'), ('the', 'DT'), ('result', 'NN'), ('of', 'IN'), ('a', 'DT'), ('psychological', 'JJ'), ('compulsion', 'NN'), ('.', '.')]\n",
      "[('It', 'PRP'), ('may', 'MD'), ('be', 'VB'), ('fostered', 'VBN'), ('by', 'IN'), ('frustration', 'NN'), (',', ','), ('depression', 'NN'), (',', ','), ('insecurity', 'NN'), ('--', ':'), ('or', 'CC'), (',', ','), ('in', 'IN'), ('children', 'NNS'), (',', ','), ('simply', 'RB'), ('by', 'IN'), ('the', 'DT'), ('desire', 'NN'), ('to', 'TO'), ('stop', 'VB'), ('an', 'DT'), ('anxious', 'JJ'), ('mother', 'NN'), (\"'s\", 'POS'), ('nagging', 'NN'), ('.', '.')]\n",
      "[('Some', 'DT'), ('families', 'NNS'), ('place', 'VBP'), ('undue', 'JJ'), ('emphasis', 'NN'), ('on', 'IN'), ('food', 'NN'), (':', ':'), ('conversations', 'NNS'), ('center', 'VBP'), ('on', 'IN'), ('it', 'PRP'), (',', ','), ('and', 'CC'), ('rich', 'JJ'), ('delicacies', 'NNS'), ('are', 'VBP'), ('offered', 'VBN'), ('as', 'IN'), ('rewards', 'NNS'), (',', ','), ('withheld', 'VBD'), ('as', 'IN'), ('punishment', 'NN'), ('.', '.')]\n",
      "[('The', 'DT'), ('result', 'NN'), ('says', 'VBZ'), ('Jolliffe', 'NNP'), (':', ':'), ('``', '``'), ('The', 'DT'), ('child', 'NN'), ('gains', 'NNS'), ('the', 'DT'), ('feeling', 'NN'), ('that', 'IN'), ('food', 'NN'), ('is', 'VBZ'), ('the', 'DT'), ('purpose', 'NN'), ('of', 'IN'), ('life', 'NN'), ('``', '``'), ('.', '.')]\n",
      "[('Food', 'NNP'), ('may', 'MD'), ('act', 'VB'), ('as', 'IN'), ('a', 'DT'), ('sedative', 'JJ'), (',', ','), ('giving', 'VBG'), ('temporary', 'JJ'), ('emotional', 'JJ'), ('solace', 'NN'), (',', ','), ('just', 'RB'), ('as', 'IN'), (',', ','), ('for', 'IN'), ('some', 'DT'), ('people', 'NNS'), (',', ','), ('alcohol', 'NN'), ('does', 'VBZ'), ('.', '.')]\n",
      "[('Reports', 'NNS'), ('Dr.', 'NNP'), ('Keys', 'NNP'), (':', ':'), ('``', '``'), ('A', 'DT'), ('fairly', 'RB'), ('common', 'JJ'), ('experience', 'NN'), ('for', 'IN'), ('us', 'PRP'), ('is', 'VBZ'), ('the', 'DT'), ('wife', 'NN'), ('who', 'WP'), ('finds', 'VBZ'), ('her', 'PRP$'), ('husband', 'NN'), ('staying', 'VBG'), ('out', 'RP'), ('more', 'JJR'), ('and', 'CC'), ('more', 'RBR'), ('.', '.')]\n",
      "[('He', 'PRP'), ('may', 'MD'), ('be', 'VB'), ('interested', 'JJ'), ('in', 'IN'), ('another', 'DT'), ('woman', 'NN'), (',', ','), ('or', 'CC'), ('just', 'RB'), ('like', 'IN'), ('being', 'VBG'), ('with', 'IN'), ('the', 'DT'), ('boys', 'NNS'), ('.', '.')]\n",
      "[('So', 'IN'), ('she', 'PRP'), ('fishes', 'VBZ'), ('around', 'RB'), ('in', 'IN'), ('the', 'DT'), ('cupboard', 'NN'), ('and', 'CC'), ('hauls', 'VB'), ('out', 'RP'), ('a', 'DT'), ('chocolate', 'NN'), ('cake', 'NN'), ('.', '.')]\n",
      "[('It', 'PRP'), (\"'s\", 'VBZ'), ('a', 'DT'), ('matter', 'NN'), ('of', 'IN'), ('boredom', 'NN'), (',', ','), ('and', 'CC'), ('the', 'DT'), ('subconscious', 'JJ'), ('feeling', 'NN'), ('that', 'IN'), ('she', 'PRP'), ('is', 'VBZ'), ('entitled', 'VBN'), ('to', 'TO'), ('something', 'NN'), (',', ','), ('because', 'IN'), ('she', 'PRP'), (\"'s\", 'VBZ'), ('being', 'VBG'), ('deprived', 'VBN'), ('of', 'IN'), ('something', 'NN'), ('else', 'RB'), ('``', '``'), ('.', '.')]\n",
      "[('For', 'IN'), ('the', 'DT'), ('army', 'NN'), ('of', 'IN'), ('compulsive', 'JJ'), ('eaters', 'NNS'), ('--', ':'), ('from', 'IN'), ('the', 'DT'), ('nibblers', 'NNS'), ('and', 'CC'), ('the', 'DT'), ('gobblers', 'NNS'), ('to', 'TO'), ('the', 'DT'), ('downright', 'NN'), ('gluttons', 'NNS'), ('--', ':'), ('reducing', 'VBG'), ('is', 'VBZ'), ('a', 'DT'), ('war', 'NN'), ('with', 'IN'), ('the', 'DT'), ('will', 'MD'), ('that', 'WDT'), ('is', 'VBZ'), ('rarely', 'RB'), ('won', 'VBN'), ('.', '.')]\n",
      "[('Physiologist', 'NNP'), ('Keys', 'NNP'), ('flatly', 'RB'), ('dismisses', 'VBZ'), ('such', 'JJ'), ('appetite', 'JJ'), ('depressants', 'NNS'), ('as', 'IN'), ('the', 'DT'), ('amphetamines', 'NNS'), ('(', '('), ('Benzedrine', 'NNP'), (',', ','), ('Dexedrine', 'NNP'), (')', ')'), ('as', 'IN'), ('dangerous', 'JJ'), ('``', '``'), ('crutches', 'NNS'), ('for', 'IN'), ('a', 'DT'), ('weak', 'JJ'), ('will', 'MD'), ('``', '``'), ('.', '.')]\n",
      "[('Keys', 'NNP'), ('has', 'VBZ'), ('no', 'DT'), ('such', 'JJ'), ('objections', 'NNS'), ('to', 'TO'), ('Metrecal', 'NNP'), (',', ','), ('Quaker', 'NNP'), ('Oats', 'NNP'), (\"'s\", 'POS'), ('Quota', 'NNP'), ('and', 'CC'), ('other', 'JJ'), ('900-calorie', 'JJ'), ('milk', 'NN'), ('formulas', 'NNS'), ('that', 'WDT'), ('are', 'VBP'), ('currently', 'RB'), ('winning', 'VBG'), ('favor', 'NN'), ('from', 'IN'), ('dieters', 'NNS'), ('.', '.')]\n",
      "[('``', '``'), ('Metrecal', 'NNP'), ('is', 'VBZ'), ('a', 'DT'), ('pretty', 'RB'), ('complete', 'JJ'), ('food', 'NN'), ('``', '``'), (',', ','), ('he', 'PRP'), ('says', 'VBZ'), ('.', '.')]\n",
      "[('``', '``'), ('It', 'PRP'), ('contains', 'VBZ'), ('large', 'JJ'), ('amounts', 'NNS'), ('of', 'IN'), ('protein', 'NN'), (',', ','), ('vitamins', 'NNS'), ('and', 'CC'), ('minerals', 'NNS'), ('.', '.')]\n",
      "[('In', 'IN'), ('the', 'DT'), ('quantity', 'NN'), ('of', 'IN'), ('900', 'CD'), ('calories', 'NNS'), ('a', 'DT'), ('day', 'NN'), (',', ','), ('anyone', 'NN'), ('will', 'MD'), ('lose', 'VB'), ('weight', 'NN'), ('on', 'IN'), ('it', 'PRP'), ('--', ':'), ('20', 'CD'), (',', ','), ('30', 'CD'), ('or', 'CC'), ('40', 'CD'), ('lbs.', 'NN'), ('``', '``')]\n",
      "[('.', '.')]\n",
      "[('But', 'CC'), ('Keys', 'NNP'), ('worries', 'VBZ'), ('that', 'IN'), ('the', 'DT'), ('Metrecal', 'NNP'), ('drinker', 'NN'), ('will', 'MD'), ('never', 'RB'), ('make', 'VB'), ('either', 'CC'), ('the', 'DT'), ('psychological', 'JJ'), ('or', 'CC'), ('physiological', 'JJ'), ('adjustment', 'NN'), ('to', 'TO'), ('the', 'DT'), ('idea', 'NN'), ('of', 'IN'), ('eating', 'VBG'), ('smaller', 'JJR'), ('portions', 'NNS'), ('of', 'IN'), ('food', 'NN'), ('.', '.')]\n",
      "[('That', 'DT'), ('remarkable', 'JJ'), ('cholesterol', 'NN'), ('.', '.')]\n",
      "[('Despite', 'IN'), ('his', 'PRP$'), ('personal', 'JJ'), ('distaste', 'NN'), ('for', 'IN'), ('obesity', 'NN'), ('(', '('), ('``', '``'), ('disgusting', 'VBG'), ('``', '``'), (')', ')'), (',', ','), ('Dr.', 'NNP'), ('Keys', 'NNP'), ('has', 'VBZ'), ('only', 'RB'), ('an', 'DT'), ('incidental', 'JJ'), ('interest', 'NN'), ('in', 'IN'), ('how', 'WRB'), ('much', 'JJ'), ('Americans', 'NNPS'), ('eat', 'NN'), ('.', '.')]\n",
      "[('What', 'WP'), ('concerns', 'VBZ'), ('him', 'PRP'), ('much', 'RB'), ('more', 'RBR'), ('is', 'VBZ'), ('the', 'DT'), ('relationship', 'NN'), ('of', 'IN'), ('diet', 'NN'), ('to', 'TO'), ('the', 'DT'), ('nation', 'NN'), (\"'s\", 'POS'), ('No', 'DT'), ('.', '.')]\n",
      "[('1', 'CD'), ('killer', 'NN'), (':', ':'), ('coronary', 'JJ'), ('artery', 'NN'), ('disease', 'NN'), (',', ','), ('which', 'WDT'), ('accounts', 'VBZ'), ('for', 'IN'), ('more', 'JJR'), ('than', 'IN'), ('half', 'NN'), ('of', 'IN'), ('all', 'DT'), ('heart', 'NN'), ('fatalities', 'NNS'), ('and', 'CC'), ('kills', 'NNS'), ('500,000', 'CD'), ('Americans', 'NNPS'), ('a', 'DT'), ('year', 'NN'), ('--', ':'), ('twice', 'RB'), ('the', 'DT'), ('toll', 'NN'), ('from', 'IN'), ('all', 'DT'), ('varieties', 'NNS'), ('of', 'IN'), ('cancer', 'NN'), (',', ','), ('five', 'CD'), ('times', 'NNS'), ('the', 'DT'), ('deaths', 'NNS'), ('from', 'IN'), ('automobile', 'NN'), ('accidents', 'NNS'), ('.', '.')]\n",
      "[('Cholesterol', 'NN'), (',', ','), ('the', 'DT'), ('cornerstone', 'NN'), ('of', 'IN'), ('Dr.', 'NNP'), ('Keys', 'NNP'), (\"'s\", 'POS'), ('theory', 'NN'), (',', ','), ('is', 'VBZ'), ('a', 'DT'), ('mysterious', 'JJ'), ('yellowish', 'NN'), (',', ','), ('waxy', 'JJ'), ('substance', 'NN'), (',', ','), ('chemically', 'RB'), ('a', 'DT'), ('crystalline', 'NN'), ('alcohol', 'NN'), ('.', '.')]\n",
      "[('Scientists', 'NNS'), ('assume', 'VBP'), ('that', 'IN'), ('cholesterol', 'NN'), ('(', '('), ('from', 'IN'), ('the', 'DT'), ('Greek', 'JJ'), ('chole', 'NN'), (',', ','), ('meaning', 'VBG'), ('bile', 'NN'), (',', ','), ('and', 'CC'), ('sterios', 'NNS'), (',', ','), ('meaning', 'VBG'), ('solid', 'JJ'), (')', ')'), ('is', 'VBZ'), ('somehow', 'JJ'), ('necessary', 'JJ'), ('for', 'IN'), ('the', 'DT'), ('formation', 'NN'), ('of', 'IN'), ('brain', 'NN'), ('cells', 'NNS'), (',', ','), ('since', 'IN'), ('it', 'PRP'), ('accounts', 'VBZ'), ('for', 'IN'), ('about', 'RB'), ('2', 'CD'), ('%', 'NN'), ('of', 'IN'), ('the', 'DT'), ('brain', 'NN'), (\"'s\", 'POS'), ('total', 'JJ'), ('solid', 'JJ'), ('weight', 'NN'), ('.', '.')]\n",
      "[('They', 'PRP'), ('know', 'VBP'), ('it', 'PRP'), ('is', 'VBZ'), ('the', 'DT'), ('chief', 'JJ'), ('ingredient', 'NN'), ('in', 'IN'), ('gallstones', 'NNS'), ('.', '.')]\n",
      "[('They', 'PRP'), ('suspect', 'VBP'), ('it', 'PRP'), ('plays', 'VBZ'), ('a', 'DT'), ('role', 'NN'), ('in', 'IN'), ('the', 'DT'), ('production', 'NN'), ('of', 'IN'), ('adrenal', 'JJ'), ('hormones', 'NNS'), (',', ','), ('and', 'CC'), ('they', 'PRP'), ('believe', 'VBP'), ('it', 'PRP'), ('is', 'VBZ'), ('essential', 'JJ'), ('to', 'TO'), ('the', 'DT'), ('transport', 'NN'), ('of', 'IN'), ('fats', 'NNS'), ('throughout', 'IN'), ('the', 'DT'), ('circulatory', 'NN'), ('system', 'NN'), ('.', '.')]\n",
      "[('But', 'CC'), ('they', 'PRP'), ('can', 'MD'), ('not', 'RB'), ('fully', 'RB'), ('explain', 'VB'), ('the', 'DT'), ('process', 'NN'), ('of', 'IN'), ('its', 'PRP$'), ('manufacture', 'NN'), ('by', 'IN'), ('the', 'DT'), ('human', 'JJ'), ('liver', 'NN'), ('.', '.')]\n",
      "[('Although', 'IN'), ('the', 'DT'), ('fatty', 'JJ'), ('protein', 'NN'), ('molecules', 'NNS'), (',', ','), ('carried', 'VBD'), ('in', 'IN'), ('the', 'DT'), ('blood', 'NN'), ('and', 'CC'), ('partly', 'RB'), ('composed', 'VBN'), ('of', 'IN'), ('cholesterol', 'NN'), (',', ','), ('are', 'VBP'), ('water', 'NN'), ('soluble', 'JJ'), (',', ','), ('cholesterol', 'VB'), ('itself', 'PRP'), ('is', 'VBZ'), ('insoluble', 'JJ'), (',', ','), ('and', 'CC'), ('can', 'MD'), ('not', 'RB'), ('be', 'VB'), ('destroyed', 'VBN'), ('by', 'IN'), ('the', 'DT'), ('body', 'NN'), ('.', '.')]\n",
      "[('``', '``'), ('A', 'DT'), ('remarkable', 'JJ'), ('substance', 'NN'), ('``', '``'), (',', ','), ('says', 'VBZ'), ('Dr.', 'NNP'), ('Keys', 'NNP'), (',', ','), ('``', '``'), ('quite', 'RB'), ('apart', 'RB'), ('from', 'IN'), ('its', 'PRP$'), ('tendency', 'NN'), ('to', 'TO'), ('be', 'VB'), ('deposited', 'VBN'), ('in', 'IN'), ('the', 'DT'), ('walls', 'NNS'), ('of', 'IN'), ('arteries', 'NNS'), ('``', '``'), ('.', '.')]\n",
      "[('When', 'WRB'), ('thus', 'RB'), ('deposited', 'VBN'), (',', ','), ('Keys', 'NNP'), ('says', 'VBZ'), ('that', 'IN'), ('cholesterol', 'NN'), ('is', 'VBZ'), ('mainly', 'RB'), ('responsible', 'JJ'), ('for', 'IN'), ('the', 'DT'), ('arterial', 'JJ'), ('blockages', 'NNS'), ('that', 'WDT'), ('culminate', 'VBP'), ('in', 'IN'), ('heart', 'NN'), ('attacks', 'NNS'), ('.', '.')]\n",
      "[('Explains', 'NNS'), ('Keys', 'NNS'), (':', ':'), ('As', 'IN'), ('the', 'DT'), ('fatty', 'JJ'), ('protein', 'NN'), ('molecules', 'NNS'), ('travel', 'VBP'), ('in', 'IN'), ('the', 'DT'), ('bloodstream', 'NN'), (',', ','), ('they', 'PRP'), ('are', 'VBP'), ('deposited', 'VBN'), ('in', 'IN'), ('the', 'DT'), ('intima', 'NN'), (',', ','), ('or', 'CC'), ('inner', 'VB'), ('wall', 'NN'), ('of', 'IN'), ('a', 'DT'), ('coronary', 'JJ'), ('artery', 'NN'), ('.', '.')]\n",
      "[('The', 'DT'), ('proteins', 'NNS'), ('and', 'CC'), ('fats', 'NNS'), ('are', 'VBP'), ('burned', 'VBN'), ('off', 'RP'), (',', ','), ('and', 'CC'), ('the', 'DT'), ('cholesterol', 'NN'), ('is', 'VBZ'), ('left', 'VBN'), ('behind', 'IN'), ('.', '.')]\n",
      "[('As', 'IN'), ('cholesterol', 'NN'), ('piles', 'VBZ'), ('up', 'RP'), (',', ','), ('it', 'PRP'), ('narrows', 'VBZ'), (',', ','), ('irritates', 'NNS'), ('and', 'CC'), ('damages', 'NNS'), ('the', 'DT'), ('artery', 'NN'), (',', ','), ('encouraging', 'VBG'), ('formation', 'NN'), ('of', 'IN'), ('calcium', 'NN'), ('deposits', 'NNS'), ('and', 'CC'), ('slowing', 'VBG'), ('circulation', 'NN'), ('.', '.')]\n",
      "[('Eventually', 'RB'), (',', ','), ('says', 'VBZ'), ('Keys', 'NNP'), (',', ','), ('one', 'CD'), ('of', 'IN'), ('two', 'CD'), ('things', 'NNS'), ('happens', 'NNS'), ('.', '.')]\n",
      "[('A', 'DT'), ('clot', 'NN'), ('forms', 'NNS'), ('at', 'IN'), ('the', 'DT'), ('site', 'NN'), (',', ','), ('seals', 'NNS'), ('off', 'IN'), ('the', 'DT'), ('flow', 'NN'), ('of', 'IN'), ('blood', 'NN'), ('to', 'TO'), ('the', 'DT'), ('heart', 'NN'), ('and', 'CC'), ('provokes', 'VB'), ('a', 'DT'), ('heart', 'NN'), ('attack', 'NN'), ('.', '.')]\n",
      "[('Or', 'CC'), ('(', '('), ('more', 'JJR'), ('commonly', 'RB'), (',', ','), ('thinks', 'VBZ'), ('Keys', 'NNP'), (')', ')'), ('the', 'DT'), ('deposits', 'NNS'), ('themselves', 'PRP'), ('get', 'VBP'), ('so', 'RB'), ('big', 'JJ'), ('that', 'IN'), ('they', 'PRP'), ('choke', 'VBD'), ('off', 'RP'), ('the', 'DT'), ('artery', 'NN'), (\"'s\", 'POS'), ('flow', 'NN'), ('to', 'TO'), ('the', 'DT'), ('point', 'NN'), ('that', 'IN'), ('an', 'DT'), ('infarct', 'JJ'), ('occurs', 'NN'), (':', ':'), ('the', 'DT'), ('heart', 'NN'), ('muscle', 'NN'), ('is', 'VBZ'), ('suffocated', 'VBN'), (',', ','), ('cells', 'NNS'), ('supplied', 'VBN'), ('by', 'IN'), ('the', 'DT'), ('artery', 'NN'), ('die', 'NN'), (',', ','), ('and', 'CC'), ('the', 'DT'), ('heart', 'NN'), ('is', 'VBZ'), ('permanently', 'RB'), (',', ','), ('perhaps', 'RB'), ('fatally', 'RB'), ('injured', 'VBN'), ('.', '.')]\n",
      "[('Fats', 'NNP'), ('&', 'CC'), ('coronaries', 'NNS'), ('.', '.')]\n",
      "[('Ordinarily', 'RB'), (',', ','), ('the', 'DT'), ('human', 'JJ'), ('liver', 'NN'), ('synthesizes', 'VBZ'), ('only', 'RB'), ('enough', 'RB'), ('cholesterol', 'NN'), ('to', 'TO'), ('satisfy', 'VB'), ('the', 'DT'), ('body', 'NN'), (\"'s\", 'POS'), ('needs', 'NNS'), ('--', ':'), ('for', 'IN'), ('transportation', 'NN'), ('of', 'IN'), ('fats', 'NNS'), ('and', 'CC'), ('for', 'IN'), ('production', 'NN'), ('of', 'IN'), ('bile', 'NN'), ('.', '.')]\n",
      "[('Even', 'RB'), ('eggs', 'NNS'), ('and', 'CC'), ('other', 'JJ'), ('cholesterol-rich', 'JJ'), ('foods', 'NNS'), (',', ','), ('eaten', 'RB'), ('in', 'IN'), ('normal', 'JJ'), ('amounts', 'NNS'), (',', ','), ('says', 'VBZ'), ('Dr.', 'NNP'), ('Keys', 'NNP'), (',', ','), ('do', 'VBP'), ('not', 'RB'), ('materially', 'RB'), ('affect', 'VBP'), ('the', 'DT'), ('amount', 'NN'), ('of', 'IN'), ('cholesterol', 'NN'), ('in', 'IN'), ('the', 'DT'), ('blood', 'NN'), ('.', '.')]\n",
      "[('But', 'CC'), ('fatty', 'JJ'), ('foods', 'NNS'), ('do', 'VBP'), ('.', '.')]\n",
      "[('During', 'IN'), ('World', 'NNP'), ('War', 'NNP'), ('2', 'CD'), (',', ','), (',', ','), ('doctors', 'NNS'), ('in', 'IN'), ('The', 'DT'), ('Netherlands', 'NNP'), ('and', 'CC'), ('Scandinavia', 'NNP'), ('noted', 'VBD'), ('a', 'DT'), ('curious', 'JJ'), ('fact', 'NN'), (':', ':'), ('despite', 'IN'), ('the', 'DT'), ('stresses', 'NNS'), ('of', 'IN'), ('Nazi', 'NNP'), ('occupation', 'NN'), (',', ','), ('the', 'DT'), ('death', 'NN'), ('rate', 'NN'), ('from', 'IN'), ('coronary', 'JJ'), ('artery', 'NN'), ('disease', 'NN'), ('was', 'VBD'), ('slowly', 'RB'), ('dropping', 'VBG'), ('.', '.')]\n",
      "[('Not', 'RB'), ('until', 'IN'), ('long', 'RB'), ('after', 'IN'), ('the', 'DT'), ('war', 'NN'), ('--', ':'), ('1950', 'CD'), (',', ','), ('in', 'IN'), ('fact', 'NN'), ('--', ':'), ('did', 'VBD'), ('they', 'PRP'), ('get', 'VB'), ('a', 'DT'), ('hint', 'NN'), ('of', 'IN'), ('the', 'DT'), ('reason', 'NN'), ('.', '.')]\n",
      "[('That', 'DT'), ('year', 'NN'), (',', ','), ('Sweden', 'NNP'), (\"'s\", 'POS'), ('Haqvin', 'NNP'), ('Malmros', 'NNP'), ('showed', 'VBD'), ('that', 'IN'), ('the', 'DT'), ('sinking', 'VBG'), ('death', 'NN'), ('rate', 'NN'), ('neatly', 'RB'), ('coincided', 'VBN'), ('with', 'IN'), ('increasingly', 'RB'), ('severe', 'JJ'), ('restrictions', 'NNS'), ('on', 'IN'), ('fatty', 'JJ'), ('foods', 'NNS'), ('.', '.')]\n",
      "[('That', 'DT'), ('same', 'JJ'), ('year', 'NN'), ('the', 'DT'), ('University', 'NNP'), ('of', 'IN'), ('California', 'NNP'), (\"'s\", 'POS'), ('Dr.', 'NNP'), ('Laurance', 'NNP'), ('Kinsell', 'NNP'), (',', ','), ('timing', 'VBG'), ('oxidation', 'NN'), ('rates', 'NNS'), ('of', 'IN'), ('blood', 'NN'), ('fats', 'NNS'), (',', ','), ('stumbled', 'VBD'), ('onto', 'IN'), ('the', 'DT'), ('discovery', 'NN'), ('that', 'IN'), ('many', 'JJ'), ('vegetable', 'JJ'), ('fats', 'NNS'), ('cause', 'VBP'), ('blood', 'NN'), ('cholesterol', 'NN'), ('levels', 'NNS'), ('to', 'TO'), ('drop', 'VB'), ('radically', 'RB'), (',', ','), ('while', 'IN'), ('animal', 'JJ'), ('fats', 'NNS'), ('cause', 'VBP'), ('them', 'PRP'), ('to', 'TO'), ('rise', 'VB'), ('.', '.')]\n",
      "[('Here', 'RB'), ('Keys', 'NNP'), ('and', 'CC'), ('others', 'NNS'), (',', ','), ('such', 'JJ'), ('as', 'IN'), ('Dr.', 'NNP'), ('A.', 'NNP'), ('E.', 'NNP'), ('Ahrens', 'NNP'), ('of', 'IN'), ('the', 'DT'), ('Rockefeller', 'NNP'), ('Institute', 'NNP'), (',', ','), ('took', 'VBD'), ('over', 'RP'), ('to', 'TO'), ('demonstrate', 'VB'), ('the', 'DT'), ('chemical', 'NN'), ('difference', 'NN'), ('between', 'IN'), ('vegetable', 'JJ'), ('and', 'CC'), ('animal', 'JJ'), ('fats', 'NNS'), ('--', ':'), ('and', 'CC'), ('even', 'RB'), ('between', 'IN'), ('different', 'JJ'), ('varieties', 'NNS'), ('of', 'IN'), ('each', 'DT'), ('.', '.')]\n",
      "[('All', 'DT'), ('natural', 'JJ'), ('food', 'NN'), ('fats', 'NNS'), ('fall', 'VBP'), ('into', 'IN'), ('one', 'CD'), ('of', 'IN'), ('three', 'CD'), ('categories', 'NNS'), ('--', ':'), ('saturated', 'VBD'), (',', ','), ('mono-unsaturated', 'JJ'), ('and', 'CC'), ('poly-unsaturated', 'JJ'), ('.', '.')]\n",
      "[('The', 'DT'), ('degree', 'NN'), ('of', 'IN'), ('saturation', 'NN'), ('depends', 'VBZ'), ('on', 'IN'), ('the', 'DT'), ('number', 'NN'), ('of', 'IN'), ('hydrogen', 'NN'), ('atoms', 'NNS'), ('on', 'IN'), ('the', 'DT'), ('fat', 'JJ'), ('molecule', 'NN'), ('.', '.')]\n",
      "[('Saturated', 'VBN'), ('fats', 'NNS'), ('can', 'MD'), ('accommodate', 'VB'), ('no', 'DT'), ('more', 'JJR'), ('hydrogens', 'NNS'), ('.', '.')]\n",
      "[('Mono-unsaturated', 'JJ'), ('fats', 'NNS'), ('have', 'VBP'), ('room', 'NN'), ('for', 'IN'), ('two', 'CD'), ('more', 'JJR'), ('hydrogens', 'NNS'), ('on', 'IN'), ('each', 'DT'), ('molecule', 'NN'), (',', ','), ('and', 'CC'), ('the', 'DT'), ('poly-unsaturated', 'JJ'), ('fat', 'NN'), ('molecule', 'NN'), ('has', 'VBZ'), ('room', 'NN'), ('for', 'IN'), ('at', 'IN'), ('least', 'JJS'), ('four', 'CD'), ('hydrogens', 'NNS'), ('.', '.')]\n",
      "[('The', 'DT'), ('three', 'CD'), ('fats', 'NNS'), ('have', 'VBP'), ('similar', 'JJ'), ('caloric', 'NN'), ('values', 'NNS'), ('(', '('), ('about', 'IN'), ('265', 'CD'), ('calories', 'NNS'), ('per', 'IN'), ('oz', 'NN'), ('.', '.'), (')', ')')]\n",
      "[(',', ','), ('but', 'CC'), ('each', 'DT'), ('exerts', 'VBZ'), ('a', 'DT'), ('radically', 'RB'), ('different', 'JJ'), ('influence', 'NN'), ('on', 'IN'), ('blood', 'NN'), ('cholesterol', 'NN'), ('.', '.')]\n"
     ]
    }
   ],
   "source": [
    "#word tokenization and tagging\n",
    "tokens=[]\n",
    "from nltk.stem import PorterStemmer\n",
    "stemmer = PorterStemmer()\n",
    "for sentence in tokenizedstr:\n",
    "        words = nltk.word_tokenize(sentence)\n",
    "        #tokenizedwords=stemmer.stem(words)\n",
    "        tokens.append(words)\n",
    "        tokenizedwords=nltk.pos_tag(words)\n",
    "        print(tokenizedwords)"
   ]
  },
  {
   "cell_type": "code",
   "execution_count": null,
   "metadata": {},
   "outputs": [],
   "source": []
  },
  {
   "cell_type": "code",
   "execution_count": 35,
   "metadata": {},
   "outputs": [
    {
     "name": "stdout",
     "output_type": "stream",
     "text": [
      "Stemmed document:\n",
      "\n",
      "the read public , the theatergo public , the skindiv public , the horse-play public -- all these and other fill substanti role in u.s. life , but none is so vari , vast and vigil as the eat public . the depart of agricultur averag out u.s. food consumpt last year at 1,488 lbs. per person , which , allow for the 17 million american that john kennedi said go to bed hungri everi night , mean that certain glutton on the upper end must somehow down 8 lbs. or more a day . that mother hen of the weight-height tabl , the metropolitan life insur co. , cluck that 48 million american are overweight . through previou centuri , eat chang by nearli impercept degre , and mostli toward just get enough . now big forc buffet food . for the first time in histori , the u.s. ha produc a societi in which less than one-tenth of the peopl turn out so much food that the government' most embarrass problem is how to dispos inconspicu of 100 million ton of surplu farm produc . In thi same societi , the plain citizen can with an averag of onli one-fifth hi incom buy more calori than he can consum . refriger , autom process and packag conspir to defi season and banish spoilag . and in the wake of the new affluenc and the new techniqu of process come a new american interest in how what peopl eat affect their health . To eat is human , the nation is learn to think , to surviv divin . fad , fact not all the concern for health is well direct . from the fusti panacea of spinach , egg and prune , the u.s. ha progress to curd , concentr and capsul . each year , report the american medic associ , ten million american spend $900 million on vitamin , tonic and other food supplement . At juic bar in lo angeles' 35 `` health '' store , a new sensat is a pink , high-protein cocktail , concoct of dri egg , powder milk and cherry-flavor no-cal , which sell for 59-cent per 8-oz. glass . groceri store sell dozen of food that boast of have almost no food valu at all . but a big part of the public want to know fact about diet and health , and a big group of u.s. scientist want to suppli them . the man most firmli at grip with the problem is the univers of minnesota' physiologist ancel key , 57 , inventor of the wartim K ( for key ) ration and author of last year' bestsel eat well and stay well . from hi birch-panel offic in the laboratori of physiolog hygien , under the university' footbal stadium in minneapoli ( `` We get a rumbl on everi touchdown '' ) , blocki , grey-hair dr. key direct an ambiti , $200,000-a-year experi on diet , which span three contin and seven nation and is still grow . pursu it , he ha log 500,000 mile , suffer indescrib digest indign , and meticul collect physiolog data on the health and eat habit of 10,000 individu , from bantu tribesmen to italian contadini . He ha measur the skinfold ( the fleshi area under the shoulder blade ) of neapolitan firemen , studi the metabol of finnish woodcutt , analyz the `` mealie-m '' eaten by capetown color , and experi on minneapoli businessmen . and fat . keys' find , though far from complet , are like to smash mani an eat clich . vitamin , egg and milk begin to look like food to hold down on ( though mothers' milk is still the ticket ) . read of the number of milligram of cholesterol in the blood , which seem to have valu in predict heart attack , are becom as routin as the electrocardiogram , which can show that the heart ha suffer a symptomat attack . alreadi mani an american know hi count , and rejoic or worri depend on whether it is nearer 180 ( safe ) or 250 ( danger ) . out of cholesterol come keys' main messag so far : american eat too much . the typic u.s. daili menu , say dr. key , contain 3,000 calori , should contain 2,300 . and extra weight increas the risk of cancer , diabet , arteri diseas and heart attack . american eat too much fat . with meat , milk , butter and ice cream , the calorie-heavi u.s. diet is 40% fat , and most of that is satur fat -- the insidi kind , say dr. key , that increas blood cholesterol , damag arteri , and lead to coronari diseas . obes : a malnutrit . throughout much of the world , food is still so scarc that half of the earth' popul ha troubl get the 1,600 calori a day necessari to sustain life . the defici diseas -- scurvi , tropic sprue , pellagra -- run rampant . In west africa , for exampl , where meat is a luxuri and babi must be wean earli to make room at the breast for later arriv , a childhood menac is kwashiorkor , or `` red johnni '' , a growth-stunt protein defici ( sign : reddish hair , bloat belli ) that kill more than half it victim , leav the rest prey for parasit and linger tropic diseas . In the well-f u.s. , defici diseas have virtual vanish in the past 20 year . today , as harrison' principl Of intern medicin , a standard internist' text , put it , `` the most common form of malnutrit is calor excess or obes '' . puritan new england regard obes as a flagrant symbol of intemper , and thu a sin . say key : `` mayb if the idea got around again that obes is immor , the fat man would start to think '' . moral asid , the fat man ha plenti to worri about -- over and abov the fact that no one ani longer love him . the simpl mechan strain of overweight , say new york' dr. norman jolliff , can overburden and damag the heart `` for much the same reason that a chevrolet engin in a cadillac bodi would wear out sooner than if it were in a bodi for which it wa built '' . the fat man ha troubl buy life insur or ha to pay higher premium . He ha -- for unclear reason -- a 25% higher death rate from cancer . He is particularli vulner to diabet . He may find even moder physic exert uncomfort , becaus excess bodi fat hamper hi breath and restrict hi muscular movement . physiolog , peopl overeat becaus what dr. jolliff call the `` appestat '' is set too high . the appestat , which adjust the appetit to keep weight constant , is locat , say jolliff , in the hypothalamu -- near the body' temperatur , sleep and water-bal control . physic exercis rais the appestat . So doe cold weather . In moder dose , alcohol narcot the appestat and enhanc appetit ( the origin reason for the cocktail ) ; ; but becaus liquor ha a high calor valu -- 100 calori per oz. -- the heavi drinker is seldom hungri . In rare case , diseas such as enceph or a pituitari tumor may damag the appestat perman , destroy nearli all sens of satieti . food for frustrat . far more frequent , over is the result of a psycholog compuls . It may be foster by frustrat , depress , insecur -- or , in children , simpli by the desir to stop an anxiou mother' nag . some famili place undu emphasi on food : convers center on it , and rich delicaci are offer as reward , withheld as punish . the result say jolliff : `` the child gain the feel that food is the purpos of life '' . food may act as a sed , give temporari emot solac , just as , for some peopl , alcohol doe . report dr. key : `` A fairli common experi for us is the wife who find her husband stay out more and more . He may be interest in anoth woman , or just like be with the boy . So she fish around in the cupboard and haul out a chocol cake . it' a matter of boredom , and the subconsci feel that she is entitl to someth , becaus she' be depriv of someth els '' . for the armi of compuls eater -- from the nibbler and the gobbler to the downright glutton -- reduc is a war with the will that is rare won . physiologist key flatli dismiss such appetit depress as the amphetamin ( benzedrin , dexedrin ) as danger `` crutch for a weak will '' . key ha no such object to metrec , quaker oats' quota and other 900-calori milk formula that are current win favor from dieter . `` metrec is a pretti complet food '' , he say . `` It contain larg amount of protein , vitamin and miner . In the quantiti of 900 calori a day , anyon will lose weight on it -- 20 , 30 or 40 lbs. '' . but key worri that the metrec drinker will never make either the psycholog or physiolog adjust to the idea of eat smaller portion of food . that remark cholesterol . despit hi person distast for obes ( `` disgust '' ) , dr. key ha onli an incident interest in how much american eat . what concern him much more is the relationship of diet to the nation' no. 1 killer : coronari arteri diseas , which account for more than half of all heart fatal and kill 500,000 american a year -- twice the toll from all varieti of cancer , five time the death from automobil accid . cholesterol , the cornerston of dr. keys' theori , is a mysteri yellowish , waxi substanc , chemic a crystallin alcohol . scientist assum that cholesterol ( from the greek chole , mean bile , and sterio , mean solid ) is somehow necessari for the format of brain cell , sinc it account for about 2% of the brain' total solid weight . they know it is the chief ingredi in gallston . they suspect it play a role in the product of adren hormon , and they believ it is essenti to the transport of fat throughout the circulatori system . but they cannot fulli explain the process of it manufactur by the human liver . although the fatti protein molecul , carri in the blood and partli compos of cholesterol , are water solubl , cholesterol itself is insolubl , and cannot be destroy by the bodi . `` A remark substanc '' , say dr. key , `` quit apart from it tendenc to be deposit in the wall of arteri '' . when thu deposit , key say that cholesterol is mainli respons for the arteri blockag that culmin in heart attack . explain key : As the fatti protein molecul travel in the bloodstream , they are deposit in the intima , or inner wall of a coronari arteri . the protein and fat are burn off , and the cholesterol is left behind . As cholesterol pile up , it narrow , irrit and damag the arteri , encourag format of calcium deposit and slow circul . eventu , say key , one of two thing happen . A clot form at the site , seal off the flow of blood to the heart and provok a heart attack . Or ( more commonli , think key ) the deposit themselv get so big that they choke off the artery' flow to the point that an infarct occur : the heart muscl is suffoc , cell suppli by the arteri die , and the heart is perman , perhap fatal injur . fat & coronari . ordinarili , the human liver synthes onli enough cholesterol to satisfi the body' need -- for transport of fat and for product of bile . even egg and other cholesterol-rich food , eaten in normal amount , say dr. key , do not materi affect the amount of cholesterol in the blood . but fatti food do . dure world war 2 , , doctor in the netherland and scandinavia note a curiou fact : despit the stress of nazi occup , the death rate from coronari arteri diseas wa slowli drop . not until long after the war -- 1950 , in fact -- did they get a hint of the reason . that year , sweden' haqvin malmro show that the sink death rate neatli coincid with increasingli sever restrict on fatti food . that same year the univers of california' dr. lauranc kinsel , time oxid rate of blood fat , stumbl onto the discoveri that mani veget fat caus blood cholesterol level to drop radic , while anim fat caus them to rise . here key and other , such as dr. A. E. ahren of the rockefel institut , took over to demonstr the chemic differ between veget and anim fat -- and even between differ varieti of each . all natur food fat fall into one of three categori -- satur , mono-unsatur and poly-unsatur . the degre of satur depend on the number of hydrogen atom on the fat molecul . satur fat can accommod no more hydrogen . mono-unsatur fat have room for two more hydrogen on each molecul , and the poly-unsatur fat molecul ha room for at least four hydrogen . the three fat have similar calor valu ( about 265 calori per oz. ) , but each exert a radic differ influenc on blood cholesterol .\n"
     ]
    }
   ],
   "source": [
    "#stemming the document-identifying stemms\n",
    "from nltk.stem import PorterStemmer\n",
    "stemmer = PorterStemmer()\n",
    "stemmedwords = [stemmer.stem(token) for token in str.split(\" \")]\n",
    "print(\"Stemmed document:\\n\")\n",
    "print(\" \".join(stemmedwords))"
   ]
  },
  {
   "cell_type": "code",
   "execution_count": null,
   "metadata": {},
   "outputs": [],
   "source": []
  }
 ],
 "metadata": {
  "kernelspec": {
   "display_name": "Python 3",
   "language": "python",
   "name": "python3"
  },
  "language_info": {
   "codemirror_mode": {
    "name": "ipython",
    "version": 3
   },
   "file_extension": ".py",
   "mimetype": "text/x-python",
   "name": "python",
   "nbconvert_exporter": "python",
   "pygments_lexer": "ipython3",
   "version": "3.7.4"
  }
 },
 "nbformat": 4,
 "nbformat_minor": 4
}
