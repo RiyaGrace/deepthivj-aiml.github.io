{
  "nbformat": 4,
  "nbformat_minor": 0,
  "metadata": {
    "kernelspec": {
      "display_name": "Python 3",
      "language": "python",
      "name": "python3"
    },
    "language_info": {
      "codemirror_mode": {
        "name": "ipython",
        "version": 3
      },
      "file_extension": ".py",
      "mimetype": "text/x-python",
      "name": "python",
      "nbconvert_exporter": "python",
      "pygments_lexer": "ipython3",
      "version": "3.7.6"
    },
    "colab": {
      "name": "NER-WEB-SCRAPING.ipynb",
      "provenance": [],
      "collapsed_sections": []
    }
  },
  "cells": [
    {
      "cell_type": "markdown",
      "metadata": {
        "id": "aF4KOFbcBhkl",
        "colab_type": "text"
      },
      "source": [
        "**NAMED ENTITY RECOGNITION WITH WEB SCRAPING**\n",
        "==========================="
      ]
    },
    {
      "cell_type": "code",
      "metadata": {
        "id": "_nl6fIRMBhkp",
        "colab_type": "code",
        "colab": {}
      },
      "source": [
        "import spacy\n",
        "nlp=spacy.load('en_core_web_sm')"
      ],
      "execution_count": 1,
      "outputs": []
    },
    {
      "cell_type": "code",
      "metadata": {
        "id": "ddjv7IhO_xXB",
        "colab_type": "code",
        "colab": {}
      },
      "source": [
        "# requests for fetching html of website\n",
        "import requests\n",
        "\n",
        "# Make the request to a url\n",
        "\n",
        "r = requests.get('https://www.wired.com/story/guide-emoji/')\n",
        "#r = requests.get('http://www.cleveland.com/metro/index.ssf/2017/12/case_western_reserve_university_president_barbara_snyders_base_salary_and_bonus_pay_tops_among_private_colleges_in_ohio.html')\n",
        "\n",
        "# Create soup from content of request\n",
        "c = r.content\n",
        "\n",
        "from bs4 import BeautifulSoup\n",
        "\n",
        "soup = BeautifulSoup(c)"
      ],
      "execution_count": 2,
      "outputs": []
    },
    {
      "cell_type": "code",
      "metadata": {
        "id": "V9yfjelW_8Yt",
        "colab_type": "code",
        "colab": {
          "base_uri": "https://localhost:8080/",
          "height": 54
        },
        "outputId": "b182b4a5-7fcd-4470-866b-10e16d027594"
      },
      "source": [
        "# Find the element on the webpage\n",
        "main_content = soup.find('div', attrs = {'class': 'grid--item body body__container article__body grid-layout__content'})\n",
        "main_content"
      ],
      "execution_count": 3,
      "outputs": [
        {
          "output_type": "execute_result",
          "data": {
            "text/plain": [
              "<div class=\"grid--item body body__container article__body grid-layout__content\"><p><span class=\"lead-in-text-callout\">Emoji are more</span> than a millennial messaging fad. Think of them more like a primitive language. The tiny, emotive characters—from 😜  to 🎉  to 💩—represent the first language born of the digital world, designed to add emotional nuance to otherwise flat text. Emoji have been popular since they first appeared on Japanese mobile phones in the late ’90s, and in the past few years they have become a hallmark of the way people communicate. They show up in press releases and corporate emails. The White House once issued an  <a class=\"external-link\" data-event-click='{\"element\":\"ExternalLink\",\"outgoingURL\":\"https://www.theatlantic.com/technology/archive/2014/10/why-the-white-house-is-using-emojis/381307/\"}' href=\"https://www.theatlantic.com/technology/archive/2014/10/why-the-white-house-is-using-emojis/381307/\" rel=\"nofollow noopener\" target=\"_blank\">economic report</a> illustrated with emoji. In 2015, 😂  became Oxford Dictionaries’ <a class=\"external-link\" data-event-click='{\"element\":\"ExternalLink\",\"outgoingURL\":\"https://en.oxforddictionaries.com/word-of-the-year/word-of-the-year-2015\"}' href=\"https://en.oxforddictionaries.com/word-of-the-year/word-of-the-year-2015\" rel=\"nofollow noopener\" target=\"_blank\">“Word” of the Year</a>. Emoji aren’t just for people who say things like “lmao smh tbh fam.” Emoji are for everyone.</p><p>That puts a lot of pressure on the designs and standards for emoji. If emoji are a language for everyone in the digital world, then the emoji lexicon needs to constantly evolve across cultures 👳 , across screens📱 , across time 🕑 . Today there are thousands of emoji depicting people in all their diversity, and thousands more to represent the things we interact with in our world: money 💰, prayer beads 📿, Apple Watches⌚. In the future, as the world becomes increasingly digital and increasingly globalized, emoji will become important tools for translation and communication—a lingua franca for the digital age.</p><figure class=\"asset-embed\"><div class=\"asset-embed__asset-container\"><span class=\"responsive-asset asset-embed__responsive-asset responsive-asset--invisible\"><picture class=\"asset-embed__responsive-asset responsive-image\"><noscript><img alt=\"Emoji The Complete History\" class=\"responsive-image__image\" sizes=\"100vw\" src=\"https://media.wired.com/photos/5a726e8b8d395a4a142281a5/master/w_1600%2Cc_limit/howwegotthere.jpg\" srcset=\"https://media.wired.com/photos/5a726e8b8d395a4a142281a5/master/w_1600%2Cc_limit/howwegotthere.jpg 1600w, https://media.wired.com/photos/5a726e8b8d395a4a142281a5/master/w_1280%2Cc_limit/howwegotthere.jpg 1280w, https://media.wired.com/photos/5a726e8b8d395a4a142281a5/master/w_1024%2Cc_limit/howwegotthere.jpg 1024w, https://media.wired.com/photos/5a726e8b8d395a4a142281a5/master/w_768%2Cc_limit/howwegotthere.jpg 768w, https://media.wired.com/photos/5a726e8b8d395a4a142281a5/master/w_640%2Cc_limit/howwegotthere.jpg 640w\"/></noscript></picture></span></div></figure><div class=\"ad ad--in-content\"><div class=\"ad__slot ad__slot--in-content\"></div></div><div aria-level=\"3\" class=\"heading-h3\" role=\"heading\">The First Emoji</div><p>In the beginning, there were emoticons. For the most part, these came of age as the :-) and :-( and 8-D of chatroom conversations in the 1990s. These primitive gestures represented an important part of early netspeak: You could convey sarcasm by tacking on ;-) at the end of your message, or share your ambivalence with the ¯_(ツ)_/¯ face.</p><p>The first emoji were created in 1999 by Japanese artist Shigetaka Kurita. Kurita worked on the development team for “i-mode,” an early mobile internet platform from Japan’s main mobile carrier, DOCOMO. Kurita wanted to design an attractive interface to convey information in a simple, succinct way: for example, an icon to show the weather forecast rather than spelling out “cloudy.” So Kurita sketched a set of 12- by 12-pixel images that could be selected from a keyboard-like grid within the i-mode interface, then sent on mobiles and pages as their own individual characters. Kurita’s original 176 emoji—now part of the <a href=\"https://www.wired.com/2016/10/new-yorks-moma-acquires-first-ever-pixelated-emoji/\">permanent collection</a> at New York’s Museum of Modern Art—privileged symbols over faces, because DOCOMO’s goal was to find new ways to express information. There were characters to show the weather (sun, clouds, umbrella, snowman), traffic (car, tram, airplane, ship), technology (landline, cell phone, TV, GameBoy), and all the phases of the moon. But those characters weren’t purely informational: For the first time, emoji offered a way to add emotional subtext to a message. “I understand” might sound cold or passive on its own, but add ❤️  and the message offered a sense of warmth and sympathy. It was the beginning of a new visual language.</p><div class=\"callout callout--feature-large\"><figure class=\"asset-embed\"><div class=\"asset-embed__asset-container\"><span class=\"responsive-asset asset-embed__responsive-asset responsive-asset--invisible\"><picture class=\"asset-embed__responsive-asset responsive-image\"><noscript><img alt=\"This image may contain Text Number Symbol Alphabet and Menu\" class=\"responsive-image__image\" sizes=\"100vw\" src=\"https://media.wired.com/photos/5926a875cefba457b079abb6/master/w_1600%2Cc_limit/emoji_grid_gray.jpg\" srcset=\"https://media.wired.com/photos/5926a875cefba457b079abb6/master/w_1600%2Cc_limit/emoji_grid_gray.jpg 1600w, https://media.wired.com/photos/5926a875cefba457b079abb6/master/w_1280%2Cc_limit/emoji_grid_gray.jpg 1280w, https://media.wired.com/photos/5926a875cefba457b079abb6/master/w_1024%2Cc_limit/emoji_grid_gray.jpg 1024w, https://media.wired.com/photos/5926a875cefba457b079abb6/master/w_768%2Cc_limit/emoji_grid_gray.jpg 768w, https://media.wired.com/photos/5926a875cefba457b079abb6/master/w_640%2Cc_limit/emoji_grid_gray.jpg 640w\"/></noscript></picture></span></div><figcaption class=\"caption asset-embed__caption\"><span class=\"caption__credit\">(c) NTT DOCOMO, INC.</span></figcaption></figure></div><p>Emoji quickly became popular in Japan, as rival mobile companies copied DOCOMO’s idea. And as mobile computing continued to explode throughout the mid-2000s, companies outside Japan, like Apple, saw an opportunity to incorporate emoji on other platforms. In 2007, a software internationalization team at Google decided to lead the charge, petitioning to get emoji recognized by the <a class=\"external-link\" data-event-click='{\"element\":\"ExternalLink\",\"outgoingURL\":\"https://unicode.org/\"}' href=\"https://unicode.org/\" rel=\"nofollow noopener\" target=\"_blank\">Unicode Consortium</a>, a nonprofit group that works sort of like the United Nations to maintain text standards across computers.</p></div>"
            ]
          },
          "metadata": {
            "tags": []
          },
          "execution_count": 3
        }
      ]
    },
    {
      "cell_type": "code",
      "metadata": {
        "id": "1ZE2cdddACXX",
        "colab_type": "code",
        "colab": {
          "base_uri": "https://localhost:8080/",
          "height": 187
        },
        "outputId": "eef395dd-f158-45e0-98c3-cc8ae7778def"
      },
      "source": [
        "# Extract the relevant information\n",
        "content = main_content.find('p').text\n",
        "\n",
        "import pprint\n",
        "rawtext=str(pprint.pprint(content))"
      ],
      "execution_count": 4,
      "outputs": [
        {
          "output_type": "stream",
          "text": [
            "('Emoji are more than a millennial messaging fad. Think of them more like a '\n",
            " 'primitive language. The tiny, emotive characters—from 😜  to 🎉  to '\n",
            " '💩—represent the first language born of the digital world, designed to add '\n",
            " 'emotional nuance to otherwise flat text. Emoji have been popular since they '\n",
            " 'first appeared on Japanese mobile phones in the late ’90s, and in the past '\n",
            " 'few years they have become a hallmark of the way people communicate. They '\n",
            " 'show up in press releases and corporate emails. The White House once issued '\n",
            " 'an  economic report illustrated with emoji. In 2015, 😂  became Oxford '\n",
            " 'Dictionaries’ “Word” of the Year. Emoji aren’t just for people who say '\n",
            " 'things like “lmao smh tbh fam.” Emoji are for everyone.')\n"
          ],
          "name": "stdout"
        }
      ]
    },
    {
      "cell_type": "code",
      "metadata": {
        "id": "vJKEvh7ZKiX4",
        "colab_type": "code",
        "colab": {
          "base_uri": "https://localhost:8080/",
          "height": 103
        },
        "outputId": "fe7bfe08-2993-4ea0-ddbe-49b8805a1d2d"
      },
      "source": [
        "content"
      ],
      "execution_count": 5,
      "outputs": [
        {
          "output_type": "execute_result",
          "data": {
            "application/vnd.google.colaboratory.intrinsic": {
              "type": "string"
            },
            "text/plain": [
              "'Emoji are more than a millennial messaging fad. Think of them more like a primitive language. The tiny, emotive characters—from 😜  to 🎉  to 💩—represent the first language born of the digital world, designed to add emotional nuance to otherwise flat text. Emoji have been popular since they first appeared on Japanese mobile phones in the late ’90s, and in the past few years they have become a hallmark of the way people communicate. They show up in press releases and corporate emails. The White House once issued an  economic report illustrated with emoji. In 2015, 😂  became Oxford Dictionaries’ “Word” of the Year. Emoji aren’t just for people who say things like “lmao smh tbh fam.” Emoji are for everyone.'"
            ]
          },
          "metadata": {
            "tags": []
          },
          "execution_count": 5
        }
      ]
    },
    {
      "cell_type": "code",
      "metadata": {
        "id": "XPo-uX78VdXG",
        "colab_type": "code",
        "colab": {}
      },
      "source": [
        "def remove_emojis(data):\n",
        "    print(data)\n",
        "    emoj = re.compile(\"[\"\n",
        "        u\"\\U0001F600-\\U0001F64F\"  # emoticons\n",
        "        u\"\\U0001F300-\\U0001F5FF\"  # symbols & pictographs\n",
        "        u\"\\U0001F680-\\U0001F6FF\"  # transport & map symbols\n",
        "        u\"\\U0001F1E0-\\U0001F1FF\"  # flags (iOS)\n",
        "        u\"\\U00002500-\\U00002BEF\"  # chinese char\n",
        "        u\"\\U00002702-\\U000027B0\"\n",
        "        u\"\\U00002702-\\U000027B0\"\n",
        "        u\"\\U000024C2-\\U0001F251\"\n",
        "        u\"\\U0001f926-\\U0001f937\"\n",
        "        u\"\\U00010000-\\U0010ffff\"\n",
        "        u\"\\u2640-\\u2642\" \n",
        "        u\"\\u2600-\\u2B55\"\n",
        "        u\"\\u200d\"\n",
        "        u\"\\u23cf\"\n",
        "        u\"\\u23e9\"\n",
        "        u\"\\u231a\"\n",
        "        u\"\\ufe0f\"  # dingbats\n",
        "        u\"\\u3030\"\n",
        "                      \"]+\", re.UNICODE)\n",
        "    return re.sub(emoj, '', str(data))"
      ],
      "execution_count": 6,
      "outputs": []
    },
    {
      "cell_type": "code",
      "metadata": {
        "id": "cfRoUlVLIl-_",
        "colab_type": "code",
        "colab": {
          "base_uri": "https://localhost:8080/",
          "height": 35
        },
        "outputId": "9089c65c-63ce-4b5b-afbb-4db781a87921"
      },
      "source": [
        "rawtext"
      ],
      "execution_count": 7,
      "outputs": [
        {
          "output_type": "execute_result",
          "data": {
            "application/vnd.google.colaboratory.intrinsic": {
              "type": "string"
            },
            "text/plain": [
              "'None'"
            ]
          },
          "metadata": {
            "tags": []
          },
          "execution_count": 7
        }
      ]
    },
    {
      "cell_type": "code",
      "metadata": {
        "id": "XdzvVSbEVf2Y",
        "colab_type": "code",
        "colab": {
          "base_uri": "https://localhost:8080/",
          "height": 54
        },
        "outputId": "0deefb58-fc5c-4450-e06f-9311a40c8df6"
      },
      "source": [
        "import re\n",
        "dat=remove_emojis(content)"
      ],
      "execution_count": 8,
      "outputs": [
        {
          "output_type": "stream",
          "text": [
            "Emoji are more than a millennial messaging fad. Think of them more like a primitive language. The tiny, emotive characters—from 😜  to 🎉  to 💩—represent the first language born of the digital world, designed to add emotional nuance to otherwise flat text. Emoji have been popular since they first appeared on Japanese mobile phones in the late ’90s, and in the past few years they have become a hallmark of the way people communicate. They show up in press releases and corporate emails. The White House once issued an  economic report illustrated with emoji. In 2015, 😂  became Oxford Dictionaries’ “Word” of the Year. Emoji aren’t just for people who say things like “lmao smh tbh fam.” Emoji are for everyone.\n"
          ],
          "name": "stdout"
        }
      ]
    },
    {
      "cell_type": "code",
      "metadata": {
        "id": "XEN8kGK0JUJc",
        "colab_type": "code",
        "colab": {
          "base_uri": "https://localhost:8080/",
          "height": 103
        },
        "outputId": "059168b4-35d2-4c6c-b456-793576948a9e"
      },
      "source": [
        "#after rmoving emojis\n",
        "dat"
      ],
      "execution_count": 9,
      "outputs": [
        {
          "output_type": "execute_result",
          "data": {
            "application/vnd.google.colaboratory.intrinsic": {
              "type": "string"
            },
            "text/plain": [
              "'Emoji are more than a millennial messaging fad. Think of them more like a primitive language. The tiny, emotive characters—from   to   to —represent the first language born of the digital world, designed to add emotional nuance to otherwise flat text. Emoji have been popular since they first appeared on Japanese mobile phones in the late ’90s, and in the past few years they have become a hallmark of the way people communicate. They show up in press releases and corporate emails. The White House once issued an  economic report illustrated with emoji. In 2015,   became Oxford Dictionaries’ “Word” of the Year. Emoji aren’t just for people who say things like “lmao smh tbh fam.” Emoji are for everyone.'"
            ]
          },
          "metadata": {
            "tags": []
          },
          "execution_count": 9
        }
      ]
    },
    {
      "cell_type": "code",
      "metadata": {
        "id": "XEw94cP7BhlO",
        "colab_type": "code",
        "colab": {}
      },
      "source": [
        "doc=nlp(dat)"
      ],
      "execution_count": 10,
      "outputs": []
    },
    {
      "cell_type": "code",
      "metadata": {
        "scrolled": false,
        "id": "fHFcvS_ABhlX",
        "colab_type": "code",
        "colab": {
          "base_uri": "https://localhost:8080/",
          "height": 54
        },
        "outputId": "7ad54e44-52b9-4034-d9d2-4011d3498629"
      },
      "source": [
        "#create list of word tokens\n",
        "token_list=[]\n",
        "for token in doc:\n",
        "    token_list.append(token.text)\n",
        "print(token_list)"
      ],
      "execution_count": 11,
      "outputs": [
        {
          "output_type": "stream",
          "text": [
            "['Emoji', 'are', 'more', 'than', 'a', 'millennial', 'messaging', 'fad', '.', 'Think', 'of', 'them', 'more', 'like', 'a', 'primitive', 'language', '.', 'The', 'tiny', ',', 'emotive', 'characters', '—', 'from', '  ', 'to', '  ', 'to', '—', 'represent', 'the', 'first', 'language', 'born', 'of', 'the', 'digital', 'world', ',', 'designed', 'to', 'add', 'emotional', 'nuance', 'to', 'otherwise', 'flat', 'text', '.', 'Emoji', 'have', 'been', 'popular', 'since', 'they', 'first', 'appeared', 'on', 'Japanese', 'mobile', 'phones', 'in', 'the', 'late', '’', '90s', ',', 'and', 'in', 'the', 'past', 'few', 'years', 'they', 'have', 'become', 'a', 'hallmark', 'of', 'the', 'way', 'people', 'communicate', '.', 'They', 'show', 'up', 'in', 'press', 'releases', 'and', 'corporate', 'emails', '.', 'The', 'White', 'House', 'once', 'issued', 'an', ' ', 'economic', 'report', 'illustrated', 'with', 'emoji', '.', 'In', '2015', ',', '  ', 'became', 'Oxford', 'Dictionaries', '’', '“', 'Word', '”', 'of', 'the', 'Year', '.', 'Emoji', 'are', 'n’t', 'just', 'for', 'people', 'who', 'say', 'things', 'like', '“', 'lmao', 'smh', 'tbh', 'fam', '.', '”', 'Emoji', 'are', 'for', 'everyone', '.']\n"
          ],
          "name": "stdout"
        }
      ]
    },
    {
      "cell_type": "code",
      "metadata": {
        "id": "pfNObcnDBhli",
        "colab_type": "code",
        "colab": {
          "base_uri": "https://localhost:8080/",
          "height": 1000
        },
        "outputId": "5336eb10-ec80-4b7a-c1f5-d8da0aebc474"
      },
      "source": [
        "#pos tagging\n",
        "for token in doc:\n",
        "    print(token.text,token.pos_)"
      ],
      "execution_count": 12,
      "outputs": [
        {
          "output_type": "stream",
          "text": [
            "Emoji PROPN\n",
            "are AUX\n",
            "more ADJ\n",
            "than SCONJ\n",
            "a DET\n",
            "millennial ADJ\n",
            "messaging NOUN\n",
            "fad NOUN\n",
            ". PUNCT\n",
            "Think VERB\n",
            "of ADP\n",
            "them PRON\n",
            "more ADV\n",
            "like SCONJ\n",
            "a DET\n",
            "primitive ADJ\n",
            "language NOUN\n",
            ". PUNCT\n",
            "The DET\n",
            "tiny ADJ\n",
            ", PUNCT\n",
            "emotive ADJ\n",
            "characters NOUN\n",
            "— PUNCT\n",
            "from ADP\n",
            "   SPACE\n",
            "to PART\n",
            "   SPACE\n",
            "to PART\n",
            "— PUNCT\n",
            "represent VERB\n",
            "the DET\n",
            "first ADJ\n",
            "language NOUN\n",
            "born VERB\n",
            "of ADP\n",
            "the DET\n",
            "digital ADJ\n",
            "world NOUN\n",
            ", PUNCT\n",
            "designed VERB\n",
            "to PART\n",
            "add VERB\n",
            "emotional ADJ\n",
            "nuance NOUN\n",
            "to PART\n",
            "otherwise ADV\n",
            "flat ADJ\n",
            "text NOUN\n",
            ". PUNCT\n",
            "Emoji PROPN\n",
            "have AUX\n",
            "been AUX\n",
            "popular ADJ\n",
            "since SCONJ\n",
            "they PRON\n",
            "first ADV\n",
            "appeared VERB\n",
            "on ADP\n",
            "Japanese ADJ\n",
            "mobile ADJ\n",
            "phones NOUN\n",
            "in ADP\n",
            "the DET\n",
            "late ADJ\n",
            "’ NOUN\n",
            "90s NOUN\n",
            ", PUNCT\n",
            "and CCONJ\n",
            "in ADP\n",
            "the DET\n",
            "past ADJ\n",
            "few ADJ\n",
            "years NOUN\n",
            "they PRON\n",
            "have AUX\n",
            "become VERB\n",
            "a DET\n",
            "hallmark NOUN\n",
            "of ADP\n",
            "the DET\n",
            "way NOUN\n",
            "people NOUN\n",
            "communicate VERB\n",
            ". PUNCT\n",
            "They PRON\n",
            "show VERB\n",
            "up ADP\n",
            "in ADP\n",
            "press NOUN\n",
            "releases NOUN\n",
            "and CCONJ\n",
            "corporate ADJ\n",
            "emails NOUN\n",
            ". PUNCT\n",
            "The DET\n",
            "White PROPN\n",
            "House PROPN\n",
            "once ADV\n",
            "issued VERB\n",
            "an DET\n",
            "  SPACE\n",
            "economic ADJ\n",
            "report NOUN\n",
            "illustrated VERB\n",
            "with ADP\n",
            "emoji PROPN\n",
            ". PUNCT\n",
            "In ADP\n",
            "2015 NUM\n",
            ", PUNCT\n",
            "   SPACE\n",
            "became VERB\n",
            "Oxford PROPN\n",
            "Dictionaries NOUN\n",
            "’ PUNCT\n",
            "“ PUNCT\n",
            "Word NOUN\n",
            "” PUNCT\n",
            "of ADP\n",
            "the DET\n",
            "Year PROPN\n",
            ". PUNCT\n",
            "Emoji PROPN\n",
            "are AUX\n",
            "n’t PART\n",
            "just ADV\n",
            "for ADP\n",
            "people NOUN\n",
            "who PRON\n",
            "say VERB\n",
            "things NOUN\n",
            "like SCONJ\n",
            "“ PUNCT\n",
            "lmao PROPN\n",
            "smh VERB\n",
            "tbh DET\n",
            "fam PROPN\n",
            ". PUNCT\n",
            "” PUNCT\n",
            "Emoji PROPN\n",
            "are AUX\n",
            "for ADP\n",
            "everyone PRON\n",
            ". PUNCT\n"
          ],
          "name": "stdout"
        }
      ]
    },
    {
      "cell_type": "code",
      "metadata": {
        "id": "j7PLzBWBBhl1",
        "colab_type": "code",
        "colab": {
          "base_uri": "https://localhost:8080/",
          "height": 221
        },
        "outputId": "60412046-90d7-41f3-c02c-4c0c2b4700b3"
      },
      "source": [
        "#named entities\n",
        "for ent in doc.ents:\n",
        "    print(ent.text,ent.label)"
      ],
      "execution_count": 13,
      "outputs": [
        {
          "output_type": "stream",
          "text": [
            "Emoji 380\n",
            "first 396\n",
            "Emoji 380\n",
            "first 396\n",
            "Japanese 381\n",
            "the late ’90s 391\n",
            "the past few years 391\n",
            "The White House 383\n",
            "2015 391\n",
            "Word” of the Year 388\n",
            "Emoji 380\n",
            "Emoji 380\n"
          ],
          "name": "stdout"
        }
      ]
    },
    {
      "cell_type": "code",
      "metadata": {
        "id": "c-FvIttZH3Ke",
        "colab_type": "code",
        "colab": {
          "base_uri": "https://localhost:8080/",
          "height": 35
        },
        "outputId": "81306997-b52f-46de-b3d4-cabaf23e93e0"
      },
      "source": [
        "\n",
        "spacy.explain(\"RB\")"
      ],
      "execution_count": 14,
      "outputs": [
        {
          "output_type": "execute_result",
          "data": {
            "application/vnd.google.colaboratory.intrinsic": {
              "type": "string"
            },
            "text/plain": [
              "'adverb'"
            ]
          },
          "metadata": {
            "tags": []
          },
          "execution_count": 14
        }
      ]
    },
    {
      "cell_type": "code",
      "metadata": {
        "id": "ppLdbO0VBhmJ",
        "colab_type": "code",
        "colab": {
          "base_uri": "https://localhost:8080/",
          "height": 119
        },
        "outputId": "1b6d4bc5-fdd5-458f-ff56-1b0e82aac111"
      },
      "source": [
        "#frequency of entities in the text\n",
        "entity=[]\n",
        "from collections import Counter\n",
        "labels=[x.label_ for x in doc.ents]\n",
        "Counter(labels)\n",
        "#entity.append()"
      ],
      "execution_count": 15,
      "outputs": [
        {
          "output_type": "execute_result",
          "data": {
            "text/plain": [
              "Counter({'DATE': 3,\n",
              "         'NORP': 1,\n",
              "         'ORDINAL': 2,\n",
              "         'ORG': 1,\n",
              "         'PERSON': 4,\n",
              "         'WORK_OF_ART': 1})"
            ]
          },
          "metadata": {
            "tags": []
          },
          "execution_count": 15
        }
      ]
    },
    {
      "cell_type": "code",
      "metadata": {
        "id": "SatAEblHSy9t",
        "colab_type": "code",
        "colab": {
          "base_uri": "https://localhost:8080/",
          "height": 119
        },
        "outputId": "fc0e45d9-5bd6-4404-a9c1-fab9b9e28b1b"
      },
      "source": [
        "#most common 10 entities\n",
        "Counter(labels).most_common(10)"
      ],
      "execution_count": 16,
      "outputs": [
        {
          "output_type": "execute_result",
          "data": {
            "text/plain": [
              "[('PERSON', 4),\n",
              " ('DATE', 3),\n",
              " ('ORDINAL', 2),\n",
              " ('NORP', 1),\n",
              " ('ORG', 1),\n",
              " ('WORK_OF_ART', 1)]"
            ]
          },
          "metadata": {
            "tags": []
          },
          "execution_count": 16
        }
      ]
    },
    {
      "cell_type": "code",
      "metadata": {
        "id": "24MWoQnNBhog",
        "colab_type": "code",
        "colab": {
          "base_uri": "https://localhost:8080/",
          "height": 85
        },
        "outputId": "a4c223ee-5db0-4c0e-d1f0-0021afeda1fb"
      },
      "source": [
        "from spacy import displacy\n",
        "displacy.serve(doc, style=\"ent\")"
      ],
      "execution_count": null,
      "outputs": [
        {
          "output_type": "stream",
          "text": [
            "\n",
            "Using the 'ent' visualizer\n",
            "Serving on http://0.0.0.0:5000 ...\n",
            "\n"
          ],
          "name": "stdout"
        }
      ]
    },
    {
      "cell_type": "code",
      "metadata": {
        "id": "MamI11o6Bho7",
        "colab_type": "code",
        "colab": {}
      },
      "source": [
        ""
      ],
      "execution_count": null,
      "outputs": []
    }
  ]
}